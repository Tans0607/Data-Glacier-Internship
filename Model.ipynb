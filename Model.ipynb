{
 "cells": [
  {
   "cell_type": "markdown",
   "id": "f8007017-cc8e-4c88-83c7-e4a72bf1e165",
   "metadata": {},
   "source": [
    "# Training the ML Model"
   ]
  },
  {
   "cell_type": "code",
   "execution_count": 2,
   "id": "9811c463-66c5-4df5-9503-728ee7c82ddf",
   "metadata": {
    "tags": []
   },
   "outputs": [],
   "source": [
    "import pandas as pd\n",
    "import pickle\n",
    "from sklearn.model_selection import train_test_split\n",
    "from sklearn.linear_model import LinearRegression\n",
    "import joblib"
   ]
  },
  {
   "cell_type": "code",
   "execution_count": 3,
   "id": "37daa10b-7fc9-4221-8666-6d7dec69261e",
   "metadata": {
    "tags": []
   },
   "outputs": [],
   "source": [
    "canada_housing = pd.read_csv(r\"C:\\Users\\gsharma\\Downloads\\Dataset\\HouseListings-Top45Cities-10292023-kaggle.csv\", encoding='latin1')"
   ]
  },
  {
   "cell_type": "code",
   "execution_count": 4,
   "id": "075c3140-5300-4e44-865d-97efbd1ece08",
   "metadata": {
    "tags": []
   },
   "outputs": [
    {
     "data": {
      "text/html": [
       "<div>\n",
       "<style scoped>\n",
       "    .dataframe tbody tr th:only-of-type {\n",
       "        vertical-align: middle;\n",
       "    }\n",
       "\n",
       "    .dataframe tbody tr th {\n",
       "        vertical-align: top;\n",
       "    }\n",
       "\n",
       "    .dataframe thead th {\n",
       "        text-align: right;\n",
       "    }\n",
       "</style>\n",
       "<table border=\"1\" class=\"dataframe\">\n",
       "  <thead>\n",
       "    <tr style=\"text-align: right;\">\n",
       "      <th></th>\n",
       "      <th>City</th>\n",
       "      <th>Price</th>\n",
       "      <th>Address</th>\n",
       "      <th>Number_Beds</th>\n",
       "      <th>Number_Baths</th>\n",
       "      <th>Province</th>\n",
       "      <th>Population</th>\n",
       "      <th>Latitude</th>\n",
       "      <th>Longitude</th>\n",
       "      <th>Median_Family_Income</th>\n",
       "    </tr>\n",
       "  </thead>\n",
       "  <tbody>\n",
       "    <tr>\n",
       "      <th>0</th>\n",
       "      <td>Toronto</td>\n",
       "      <td>779900.0</td>\n",
       "      <td>#318 -20 SOUTHPORT ST</td>\n",
       "      <td>3</td>\n",
       "      <td>2</td>\n",
       "      <td>Ontario</td>\n",
       "      <td>5647656</td>\n",
       "      <td>43.7417</td>\n",
       "      <td>-79.3733</td>\n",
       "      <td>97000.0</td>\n",
       "    </tr>\n",
       "    <tr>\n",
       "      <th>1</th>\n",
       "      <td>Toronto</td>\n",
       "      <td>799999.0</td>\n",
       "      <td>#818 -60 SOUTHPORT ST</td>\n",
       "      <td>3</td>\n",
       "      <td>1</td>\n",
       "      <td>Ontario</td>\n",
       "      <td>5647656</td>\n",
       "      <td>43.7417</td>\n",
       "      <td>-79.3733</td>\n",
       "      <td>97000.0</td>\n",
       "    </tr>\n",
       "    <tr>\n",
       "      <th>2</th>\n",
       "      <td>Toronto</td>\n",
       "      <td>799900.0</td>\n",
       "      <td>#714 -859 THE QUEENSWAY</td>\n",
       "      <td>2</td>\n",
       "      <td>2</td>\n",
       "      <td>Ontario</td>\n",
       "      <td>5647656</td>\n",
       "      <td>43.7417</td>\n",
       "      <td>-79.3733</td>\n",
       "      <td>97000.0</td>\n",
       "    </tr>\n",
       "    <tr>\n",
       "      <th>3</th>\n",
       "      <td>Toronto</td>\n",
       "      <td>1200000.0</td>\n",
       "      <td>275 MORTIMER AVE</td>\n",
       "      <td>4</td>\n",
       "      <td>2</td>\n",
       "      <td>Ontario</td>\n",
       "      <td>5647656</td>\n",
       "      <td>43.7417</td>\n",
       "      <td>-79.3733</td>\n",
       "      <td>97000.0</td>\n",
       "    </tr>\n",
       "    <tr>\n",
       "      <th>4</th>\n",
       "      <td>Toronto</td>\n",
       "      <td>668800.0</td>\n",
       "      <td>#420 -388 RICHMOND ST</td>\n",
       "      <td>1</td>\n",
       "      <td>1</td>\n",
       "      <td>Ontario</td>\n",
       "      <td>5647656</td>\n",
       "      <td>43.7417</td>\n",
       "      <td>-79.3733</td>\n",
       "      <td>97000.0</td>\n",
       "    </tr>\n",
       "  </tbody>\n",
       "</table>\n",
       "</div>"
      ],
      "text/plain": [
       "      City      Price                  Address  Number_Beds  Number_Baths  \\\n",
       "0  Toronto   779900.0    #318 -20 SOUTHPORT ST            3             2   \n",
       "1  Toronto   799999.0    #818 -60 SOUTHPORT ST            3             1   \n",
       "2  Toronto   799900.0  #714 -859 THE QUEENSWAY            2             2   \n",
       "3  Toronto  1200000.0         275 MORTIMER AVE            4             2   \n",
       "4  Toronto   668800.0    #420 -388 RICHMOND ST            1             1   \n",
       "\n",
       "  Province  Population  Latitude  Longitude  Median_Family_Income  \n",
       "0  Ontario     5647656   43.7417   -79.3733               97000.0  \n",
       "1  Ontario     5647656   43.7417   -79.3733               97000.0  \n",
       "2  Ontario     5647656   43.7417   -79.3733               97000.0  \n",
       "3  Ontario     5647656   43.7417   -79.3733               97000.0  \n",
       "4  Ontario     5647656   43.7417   -79.3733               97000.0  "
      ]
     },
     "execution_count": 4,
     "metadata": {},
     "output_type": "execute_result"
    }
   ],
   "source": [
    "canada_housing.head()"
   ]
  },
  {
   "cell_type": "code",
   "execution_count": 27,
   "id": "9255158c-05bc-4296-a1ac-7b67b35f16e4",
   "metadata": {
    "tags": []
   },
   "outputs": [],
   "source": [
    "# Price feature will be target\n",
    "\n",
    "#X = canada_housing.drop(\"Price\", axis=1)"
   ]
  },
  {
   "cell_type": "code",
   "execution_count": 28,
   "id": "c7efe31c-8541-464d-aa19-71126ae48310",
   "metadata": {
    "tags": []
   },
   "outputs": [
    {
     "data": {
      "text/html": [
       "<div>\n",
       "<style scoped>\n",
       "    .dataframe tbody tr th:only-of-type {\n",
       "        vertical-align: middle;\n",
       "    }\n",
       "\n",
       "    .dataframe tbody tr th {\n",
       "        vertical-align: top;\n",
       "    }\n",
       "\n",
       "    .dataframe thead th {\n",
       "        text-align: right;\n",
       "    }\n",
       "</style>\n",
       "<table border=\"1\" class=\"dataframe\">\n",
       "  <thead>\n",
       "    <tr style=\"text-align: right;\">\n",
       "      <th></th>\n",
       "      <th>City</th>\n",
       "      <th>Price</th>\n",
       "      <th>Address</th>\n",
       "      <th>Number_Beds</th>\n",
       "      <th>Number_Baths</th>\n",
       "      <th>Province</th>\n",
       "      <th>Population</th>\n",
       "      <th>Latitude</th>\n",
       "      <th>Longitude</th>\n",
       "      <th>Median_Family_Income</th>\n",
       "    </tr>\n",
       "  </thead>\n",
       "  <tbody>\n",
       "    <tr>\n",
       "      <th>0</th>\n",
       "      <td>Toronto</td>\n",
       "      <td>779900.0</td>\n",
       "      <td>#318 -20 SOUTHPORT ST</td>\n",
       "      <td>3</td>\n",
       "      <td>2</td>\n",
       "      <td>Ontario</td>\n",
       "      <td>5647656</td>\n",
       "      <td>43.7417</td>\n",
       "      <td>-79.3733</td>\n",
       "      <td>97000.0</td>\n",
       "    </tr>\n",
       "    <tr>\n",
       "      <th>1</th>\n",
       "      <td>Toronto</td>\n",
       "      <td>799999.0</td>\n",
       "      <td>#818 -60 SOUTHPORT ST</td>\n",
       "      <td>3</td>\n",
       "      <td>1</td>\n",
       "      <td>Ontario</td>\n",
       "      <td>5647656</td>\n",
       "      <td>43.7417</td>\n",
       "      <td>-79.3733</td>\n",
       "      <td>97000.0</td>\n",
       "    </tr>\n",
       "    <tr>\n",
       "      <th>2</th>\n",
       "      <td>Toronto</td>\n",
       "      <td>799900.0</td>\n",
       "      <td>#714 -859 THE QUEENSWAY</td>\n",
       "      <td>2</td>\n",
       "      <td>2</td>\n",
       "      <td>Ontario</td>\n",
       "      <td>5647656</td>\n",
       "      <td>43.7417</td>\n",
       "      <td>-79.3733</td>\n",
       "      <td>97000.0</td>\n",
       "    </tr>\n",
       "    <tr>\n",
       "      <th>3</th>\n",
       "      <td>Toronto</td>\n",
       "      <td>1200000.0</td>\n",
       "      <td>275 MORTIMER AVE</td>\n",
       "      <td>4</td>\n",
       "      <td>2</td>\n",
       "      <td>Ontario</td>\n",
       "      <td>5647656</td>\n",
       "      <td>43.7417</td>\n",
       "      <td>-79.3733</td>\n",
       "      <td>97000.0</td>\n",
       "    </tr>\n",
       "    <tr>\n",
       "      <th>4</th>\n",
       "      <td>Toronto</td>\n",
       "      <td>668800.0</td>\n",
       "      <td>#420 -388 RICHMOND ST</td>\n",
       "      <td>1</td>\n",
       "      <td>1</td>\n",
       "      <td>Ontario</td>\n",
       "      <td>5647656</td>\n",
       "      <td>43.7417</td>\n",
       "      <td>-79.3733</td>\n",
       "      <td>97000.0</td>\n",
       "    </tr>\n",
       "  </tbody>\n",
       "</table>\n",
       "</div>"
      ],
      "text/plain": [
       "      City      Price                  Address  Number_Beds  Number_Baths  \\\n",
       "0  Toronto   779900.0    #318 -20 SOUTHPORT ST            3             2   \n",
       "1  Toronto   799999.0    #818 -60 SOUTHPORT ST            3             1   \n",
       "2  Toronto   799900.0  #714 -859 THE QUEENSWAY            2             2   \n",
       "3  Toronto  1200000.0         275 MORTIMER AVE            4             2   \n",
       "4  Toronto   668800.0    #420 -388 RICHMOND ST            1             1   \n",
       "\n",
       "  Province  Population  Latitude  Longitude  Median_Family_Income  \n",
       "0  Ontario     5647656   43.7417   -79.3733               97000.0  \n",
       "1  Ontario     5647656   43.7417   -79.3733               97000.0  \n",
       "2  Ontario     5647656   43.7417   -79.3733               97000.0  \n",
       "3  Ontario     5647656   43.7417   -79.3733               97000.0  \n",
       "4  Ontario     5647656   43.7417   -79.3733               97000.0  "
      ]
     },
     "execution_count": 28,
     "metadata": {},
     "output_type": "execute_result"
    }
   ],
   "source": [
    "canada_housing.head()"
   ]
  },
  {
   "cell_type": "code",
   "execution_count": 5,
   "id": "46c08c8f-9560-4979-adff-57a2e6a5188c",
   "metadata": {
    "tags": []
   },
   "outputs": [],
   "source": [
    "###  Converting type of columns to category \n",
    "\n",
    "canada_housing['City'] = canada_housing['City'].astype('category') \n",
    "canada_housing['Province'] = canada_housing['Province'].astype('category')"
   ]
  },
  {
   "cell_type": "code",
   "execution_count": 6,
   "id": "7e699c01-d19c-4166-a583-bc0820753812",
   "metadata": {
    "tags": []
   },
   "outputs": [],
   "source": [
    "# Assigning numerical values and storing it in another columns \n",
    "canada_housing['City_new'] = canada_housing['City'].cat.codes \n",
    "canada_housing['Pro_new'] = canada_housing['Province'].cat.codes "
   ]
  },
  {
   "cell_type": "code",
   "execution_count": 7,
   "id": "b0170b5e-d207-44ce-a9b3-b2ac4edf1f7b",
   "metadata": {
    "tags": []
   },
   "outputs": [],
   "source": [
    "X = canada_housing [['City_new' , 'Number_Beds','Number_Baths','Pro_new','Population','Latitude','Longitude','Median_Family_Income']]\n",
    "y = canada_housing ['Price']"
   ]
  },
  {
   "cell_type": "code",
   "execution_count": 8,
   "id": "58461cfb-9956-47bc-b9cd-df3b138d4cd0",
   "metadata": {
    "tags": []
   },
   "outputs": [],
   "source": [
    "X_train, X_test, y_train, y_test = train_test_split(X, y, test_size=0.2, random_state=42)"
   ]
  },
  {
   "cell_type": "code",
   "execution_count": 19,
   "id": "602d7724-064d-46e7-9fdc-d2af1c8c479a",
   "metadata": {
    "tags": []
   },
   "outputs": [
    {
     "data": {
      "text/html": [
       "<div>\n",
       "<style scoped>\n",
       "    .dataframe tbody tr th:only-of-type {\n",
       "        vertical-align: middle;\n",
       "    }\n",
       "\n",
       "    .dataframe tbody tr th {\n",
       "        vertical-align: top;\n",
       "    }\n",
       "\n",
       "    .dataframe thead th {\n",
       "        text-align: right;\n",
       "    }\n",
       "</style>\n",
       "<table border=\"1\" class=\"dataframe\">\n",
       "  <thead>\n",
       "    <tr style=\"text-align: right;\">\n",
       "      <th></th>\n",
       "      <th>City_new</th>\n",
       "      <th>Number_Beds</th>\n",
       "      <th>Number_Baths</th>\n",
       "      <th>Pro_new</th>\n",
       "      <th>Population</th>\n",
       "      <th>Latitude</th>\n",
       "      <th>Longitude</th>\n",
       "      <th>Median_Family_Income</th>\n",
       "    </tr>\n",
       "  </thead>\n",
       "  <tbody>\n",
       "    <tr>\n",
       "      <th>26849</th>\n",
       "      <td>17</td>\n",
       "      <td>4</td>\n",
       "      <td>4</td>\n",
       "      <td>1</td>\n",
       "      <td>90990</td>\n",
       "      <td>49.2167</td>\n",
       "      <td>-122.6000</td>\n",
       "      <td>105000.0</td>\n",
       "    </tr>\n",
       "    <tr>\n",
       "      <th>1227</th>\n",
       "      <td>38</td>\n",
       "      <td>3</td>\n",
       "      <td>2</td>\n",
       "      <td>6</td>\n",
       "      <td>5647656</td>\n",
       "      <td>43.7417</td>\n",
       "      <td>-79.3733</td>\n",
       "      <td>97000.0</td>\n",
       "    </tr>\n",
       "  </tbody>\n",
       "</table>\n",
       "</div>"
      ],
      "text/plain": [
       "       City_new  Number_Beds  Number_Baths  Pro_new  Population  Latitude  \\\n",
       "26849        17            4             4        1       90990   49.2167   \n",
       "1227         38            3             2        6     5647656   43.7417   \n",
       "\n",
       "       Longitude  Median_Family_Income  \n",
       "26849  -122.6000              105000.0  \n",
       "1227    -79.3733               97000.0  "
      ]
     },
     "execution_count": 19,
     "metadata": {},
     "output_type": "execute_result"
    }
   ],
   "source": [
    "X_test.head(2)"
   ]
  },
  {
   "cell_type": "code",
   "execution_count": 9,
   "id": "2df74118-a88d-41d5-a898-278e570c7ba3",
   "metadata": {
    "tags": []
   },
   "outputs": [
    {
     "data": {
      "text/html": [
       "<style>#sk-container-id-1 {color: black;}#sk-container-id-1 pre{padding: 0;}#sk-container-id-1 div.sk-toggleable {background-color: white;}#sk-container-id-1 label.sk-toggleable__label {cursor: pointer;display: block;width: 100%;margin-bottom: 0;padding: 0.3em;box-sizing: border-box;text-align: center;}#sk-container-id-1 label.sk-toggleable__label-arrow:before {content: \"▸\";float: left;margin-right: 0.25em;color: #696969;}#sk-container-id-1 label.sk-toggleable__label-arrow:hover:before {color: black;}#sk-container-id-1 div.sk-estimator:hover label.sk-toggleable__label-arrow:before {color: black;}#sk-container-id-1 div.sk-toggleable__content {max-height: 0;max-width: 0;overflow: hidden;text-align: left;background-color: #f0f8ff;}#sk-container-id-1 div.sk-toggleable__content pre {margin: 0.2em;color: black;border-radius: 0.25em;background-color: #f0f8ff;}#sk-container-id-1 input.sk-toggleable__control:checked~div.sk-toggleable__content {max-height: 200px;max-width: 100%;overflow: auto;}#sk-container-id-1 input.sk-toggleable__control:checked~label.sk-toggleable__label-arrow:before {content: \"▾\";}#sk-container-id-1 div.sk-estimator input.sk-toggleable__control:checked~label.sk-toggleable__label {background-color: #d4ebff;}#sk-container-id-1 div.sk-label input.sk-toggleable__control:checked~label.sk-toggleable__label {background-color: #d4ebff;}#sk-container-id-1 input.sk-hidden--visually {border: 0;clip: rect(1px 1px 1px 1px);clip: rect(1px, 1px, 1px, 1px);height: 1px;margin: -1px;overflow: hidden;padding: 0;position: absolute;width: 1px;}#sk-container-id-1 div.sk-estimator {font-family: monospace;background-color: #f0f8ff;border: 1px dotted black;border-radius: 0.25em;box-sizing: border-box;margin-bottom: 0.5em;}#sk-container-id-1 div.sk-estimator:hover {background-color: #d4ebff;}#sk-container-id-1 div.sk-parallel-item::after {content: \"\";width: 100%;border-bottom: 1px solid gray;flex-grow: 1;}#sk-container-id-1 div.sk-label:hover label.sk-toggleable__label {background-color: #d4ebff;}#sk-container-id-1 div.sk-serial::before {content: \"\";position: absolute;border-left: 1px solid gray;box-sizing: border-box;top: 0;bottom: 0;left: 50%;z-index: 0;}#sk-container-id-1 div.sk-serial {display: flex;flex-direction: column;align-items: center;background-color: white;padding-right: 0.2em;padding-left: 0.2em;position: relative;}#sk-container-id-1 div.sk-item {position: relative;z-index: 1;}#sk-container-id-1 div.sk-parallel {display: flex;align-items: stretch;justify-content: center;background-color: white;position: relative;}#sk-container-id-1 div.sk-item::before, #sk-container-id-1 div.sk-parallel-item::before {content: \"\";position: absolute;border-left: 1px solid gray;box-sizing: border-box;top: 0;bottom: 0;left: 50%;z-index: -1;}#sk-container-id-1 div.sk-parallel-item {display: flex;flex-direction: column;z-index: 1;position: relative;background-color: white;}#sk-container-id-1 div.sk-parallel-item:first-child::after {align-self: flex-end;width: 50%;}#sk-container-id-1 div.sk-parallel-item:last-child::after {align-self: flex-start;width: 50%;}#sk-container-id-1 div.sk-parallel-item:only-child::after {width: 0;}#sk-container-id-1 div.sk-dashed-wrapped {border: 1px dashed gray;margin: 0 0.4em 0.5em 0.4em;box-sizing: border-box;padding-bottom: 0.4em;background-color: white;}#sk-container-id-1 div.sk-label label {font-family: monospace;font-weight: bold;display: inline-block;line-height: 1.2em;}#sk-container-id-1 div.sk-label-container {text-align: center;}#sk-container-id-1 div.sk-container {/* jupyter's `normalize.less` sets `[hidden] { display: none; }` but bootstrap.min.css set `[hidden] { display: none !important; }` so we also need the `!important` here to be able to override the default hidden behavior on the sphinx rendered scikit-learn.org. See: https://github.com/scikit-learn/scikit-learn/issues/21755 */display: inline-block !important;position: relative;}#sk-container-id-1 div.sk-text-repr-fallback {display: none;}</style><div id=\"sk-container-id-1\" class=\"sk-top-container\"><div class=\"sk-text-repr-fallback\"><pre>LinearRegression()</pre><b>In a Jupyter environment, please rerun this cell to show the HTML representation or trust the notebook. <br />On GitHub, the HTML representation is unable to render, please try loading this page with nbviewer.org.</b></div><div class=\"sk-container\" hidden><div class=\"sk-item\"><div class=\"sk-estimator sk-toggleable\"><input class=\"sk-toggleable__control sk-hidden--visually\" id=\"sk-estimator-id-1\" type=\"checkbox\" checked><label for=\"sk-estimator-id-1\" class=\"sk-toggleable__label sk-toggleable__label-arrow\">LinearRegression</label><div class=\"sk-toggleable__content\"><pre>LinearRegression()</pre></div></div></div></div></div>"
      ],
      "text/plain": [
       "LinearRegression()"
      ]
     },
     "execution_count": 9,
     "metadata": {},
     "output_type": "execute_result"
    }
   ],
   "source": [
    "lm = LinearRegression()\n",
    "lm.fit(X_train , y_train)"
   ]
  },
  {
   "cell_type": "code",
   "execution_count": 46,
   "id": "601a7ffc-4528-42da-8b24-317b15670ddc",
   "metadata": {
    "tags": []
   },
   "outputs": [],
   "source": [
    "with open('model.pickle', 'wb') as file:\n",
    "    pickle.dump(lm, file)"
   ]
  },
  {
   "cell_type": "code",
   "execution_count": 10,
   "id": "50cee008-93c4-4d3b-bc61-de3d4317186d",
   "metadata": {
    "tags": []
   },
   "outputs": [],
   "source": [
    "## Predict and evaluate\n",
    "\n",
    "y_pred = lm.predict(X_test)"
   ]
  },
  {
   "cell_type": "code",
   "execution_count": 11,
   "id": "b84b7b91-2130-4ae1-a88e-a12cee279494",
   "metadata": {
    "tags": []
   },
   "outputs": [
    {
     "data": {
      "text/plain": [
       "array([1711036.17717892, 1277671.18543633, 1785682.8333556 , ...,\n",
       "        254576.85120611, 1470838.86898173,  771976.41745538])"
      ]
     },
     "execution_count": 11,
     "metadata": {},
     "output_type": "execute_result"
    }
   ],
   "source": [
    "y_pred"
   ]
  },
  {
   "cell_type": "code",
   "execution_count": 15,
   "id": "426a03d0-c0ee-4235-a0fc-3639caedc30d",
   "metadata": {
    "tags": []
   },
   "outputs": [
    {
     "name": "stdout",
     "output_type": "stream",
     "text": [
      "Coefficients: \n",
      " [ 6.69362548e+03  1.69588428e+04  3.31802807e+05 -5.66232285e+04\n",
      "  7.33114675e-02 -9.90185782e+04 -1.22810630e+04  3.60934451e+00]\n",
      "Mean squared error: 726060776551.76\n",
      "Coefficient of determination: 0.30\n"
     ]
    },
    {
     "data": {
      "image/png": "[encoded data removed]",
      "text/plain": [
       "<Figure size 640x480 with 1 Axes>"
      ]
     },
     "metadata": {},
     "output_type": "display_data"
    }
   ],
   "source": [
    "from sklearn.metrics import mean_squared_error, r2_score\n",
    "import matplotlib.pyplot as plt\n",
    "\n",
    "# The coefficients\n",
    "print(\"Coefficients: \\n\", lm.coef_)\n",
    "# The mean squared error\n",
    "print(\"Mean squared error: %.2f\" % mean_squared_error(y_test, y_pred))\n",
    "# The coefficient of determination: 1 is perfect prediction\n",
    "print(\"Coefficient of determination: %.2f\" % r2_score(y_test, y_pred))\n",
    "\n",
    "# Plot outputs\n",
    "plt.scatter(y_pred, y_test, color=\"black\")\n",
    "\n",
    "plt.xticks(())\n",
    "plt.yticks(())\n",
    "\n",
    "plt.show()"
   ]
  },
  {
   "cell_type": "code",
   "execution_count": null,
   "id": "523854ce-9a1d-4149-b4af-909c08523584",
   "metadata": {},
   "outputs": [],
   "source": []
  }
 ],
 "metadata": {
  "kernelspec": {
   "display_name": "Python 3 (ipykernel)",
   "language": "python",
   "name": "python3"
  },
  "language_info": {
   "codemirror_mode": {
    "name": "ipython",
    "version": 3
   },
   "file_extension": ".py",
   "mimetype": "text/x-python",
   "name": "python",
   "nbconvert_exporter": "python",
   "pygments_lexer": "ipython3",
   "version": "3.11.5"
  }
 },
 "nbformat": 4,
 "nbformat_minor": 5
}
