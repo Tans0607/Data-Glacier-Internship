{
 "cells": [
  {
   "cell_type": "code",
   "execution_count": 95,
   "id": "544a68d0-71d4-47bb-b85d-8dcc9598879f",
   "metadata": {},
   "outputs": [],
   "source": [
    "import pandas as pd\n",
    "import numpy as np\n",
    "import seaborn as sns\n",
    "import matplotlib.pyplot as plt\n",
    "import datetime as dt"
   ]
  },
  {
   "cell_type": "code",
   "execution_count": 5,
   "id": "800ef886-df30-462f-b5f6-3cacf0098e4a",
   "metadata": {},
   "outputs": [],
   "source": [
    "Cab_Data = pd.read_csv(\"C:\\Internship\\Cab_Data.csv\")"
   ]
  },
  {
   "cell_type": "code",
   "execution_count": 6,
   "id": "8434f4b5-ccb6-42a4-95df-e15360bcfc45",
   "metadata": {},
   "outputs": [
    {
     "data": {
      "text/html": [
       "<div>\n",
       "<style scoped>\n",
       "    .dataframe tbody tr th:only-of-type {\n",
       "        vertical-align: middle;\n",
       "    }\n",
       "\n",
       "    .dataframe tbody tr th {\n",
       "        vertical-align: top;\n",
       "    }\n",
       "\n",
       "    .dataframe thead th {\n",
       "        text-align: right;\n",
       "    }\n",
       "</style>\n",
       "<table border=\"1\" class=\"dataframe\">\n",
       "  <thead>\n",
       "    <tr style=\"text-align: right;\">\n",
       "      <th></th>\n",
       "      <th>Transaction ID</th>\n",
       "      <th>Date of Travel</th>\n",
       "      <th>Company</th>\n",
       "      <th>City</th>\n",
       "      <th>KM Travelled</th>\n",
       "      <th>Price Charged</th>\n",
       "      <th>Cost of Trip</th>\n",
       "    </tr>\n",
       "  </thead>\n",
       "  <tbody>\n",
       "    <tr>\n",
       "      <th>0</th>\n",
       "      <td>10000011</td>\n",
       "      <td>8/01/2016</td>\n",
       "      <td>Pink Cab</td>\n",
       "      <td>ATLANTA GA</td>\n",
       "      <td>30.45</td>\n",
       "      <td>370.95</td>\n",
       "      <td>313.635</td>\n",
       "    </tr>\n",
       "    <tr>\n",
       "      <th>1</th>\n",
       "      <td>10000012</td>\n",
       "      <td>6/01/2016</td>\n",
       "      <td>Pink Cab</td>\n",
       "      <td>ATLANTA GA</td>\n",
       "      <td>28.62</td>\n",
       "      <td>358.52</td>\n",
       "      <td>334.854</td>\n",
       "    </tr>\n",
       "    <tr>\n",
       "      <th>2</th>\n",
       "      <td>10000013</td>\n",
       "      <td>2/01/2016</td>\n",
       "      <td>Pink Cab</td>\n",
       "      <td>ATLANTA GA</td>\n",
       "      <td>9.04</td>\n",
       "      <td>125.20</td>\n",
       "      <td>97.632</td>\n",
       "    </tr>\n",
       "    <tr>\n",
       "      <th>3</th>\n",
       "      <td>10000014</td>\n",
       "      <td>7/01/2016</td>\n",
       "      <td>Pink Cab</td>\n",
       "      <td>ATLANTA GA</td>\n",
       "      <td>33.17</td>\n",
       "      <td>377.40</td>\n",
       "      <td>351.602</td>\n",
       "    </tr>\n",
       "    <tr>\n",
       "      <th>4</th>\n",
       "      <td>10000015</td>\n",
       "      <td>3/01/2016</td>\n",
       "      <td>Pink Cab</td>\n",
       "      <td>ATLANTA GA</td>\n",
       "      <td>8.73</td>\n",
       "      <td>114.62</td>\n",
       "      <td>97.776</td>\n",
       "    </tr>\n",
       "  </tbody>\n",
       "</table>\n",
       "</div>"
      ],
      "text/plain": [
       "   Transaction ID Date of Travel   Company        City  KM Travelled  \\\n",
       "0        10000011      8/01/2016  Pink Cab  ATLANTA GA         30.45   \n",
       "1        10000012      6/01/2016  Pink Cab  ATLANTA GA         28.62   \n",
       "2        10000013      2/01/2016  Pink Cab  ATLANTA GA          9.04   \n",
       "3        10000014      7/01/2016  Pink Cab  ATLANTA GA         33.17   \n",
       "4        10000015      3/01/2016  Pink Cab  ATLANTA GA          8.73   \n",
       "\n",
       "   Price Charged  Cost of Trip  \n",
       "0         370.95       313.635  \n",
       "1         358.52       334.854  \n",
       "2         125.20        97.632  \n",
       "3         377.40       351.602  \n",
       "4         114.62        97.776  "
      ]
     },
     "execution_count": 6,
     "metadata": {},
     "output_type": "execute_result"
    }
   ],
   "source": [
    "Cab_Data.head(5)"
   ]
  },
  {
   "cell_type": "code",
   "execution_count": 7,
   "id": "737d7433-a1d2-4b4c-aae0-71438c4ed59b",
   "metadata": {},
   "outputs": [
    {
     "name": "stdout",
     "output_type": "stream",
     "text": [
      "<class 'pandas.core.frame.DataFrame'>\n",
      "RangeIndex: 359392 entries, 0 to 359391\n",
      "Data columns (total 7 columns):\n",
      " #   Column          Non-Null Count   Dtype  \n",
      "---  ------          --------------   -----  \n",
      " 0   Transaction ID  359392 non-null  int64  \n",
      " 1   Date of Travel  359392 non-null  object \n",
      " 2   Company         359392 non-null  object \n",
      " 3   City            359392 non-null  object \n",
      " 4   KM Travelled    359392 non-null  float64\n",
      " 5   Price Charged   359392 non-null  float64\n",
      " 6   Cost of Trip    359392 non-null  float64\n",
      "dtypes: float64(3), int64(1), object(3)\n",
      "memory usage: 19.2+ MB\n"
     ]
    }
   ],
   "source": [
    "Cab_Data.info()"
   ]
  },
  {
   "cell_type": "code",
   "execution_count": 8,
   "id": "38b24076-9f5c-4ea7-a54b-56900f315570",
   "metadata": {},
   "outputs": [],
   "source": [
    "Cab_Data['Date of Travel'] = pd.to_datetime(Cab_Data['Date of Travel'],format='%d/%m/%Y')"
   ]
  },
  {
   "cell_type": "code",
   "execution_count": 9,
   "id": "acdb44ff-6a9c-4fb9-b4ee-318d3a04e7fb",
   "metadata": {},
   "outputs": [
    {
     "name": "stdout",
     "output_type": "stream",
     "text": [
      "<class 'pandas.core.frame.DataFrame'>\n",
      "RangeIndex: 20 entries, 0 to 19\n",
      "Data columns (total 3 columns):\n",
      " #   Column      Non-Null Count  Dtype \n",
      "---  ------      --------------  ----- \n",
      " 0   City        20 non-null     object\n",
      " 1   Population  20 non-null     object\n",
      " 2   Users       20 non-null     object\n",
      "dtypes: object(3)\n",
      "memory usage: 608.0+ bytes\n"
     ]
    }
   ],
   "source": [
    "City = pd.read_csv(\"C:\\Internship\\City.csv\")\n",
    "City.info()"
   ]
  },
  {
   "cell_type": "code",
   "execution_count": 10,
   "id": "37ac23d0-44f7-424c-ac6a-c161a029439d",
   "metadata": {},
   "outputs": [
    {
     "data": {
      "text/html": [
       "<div>\n",
       "<style scoped>\n",
       "    .dataframe tbody tr th:only-of-type {\n",
       "        vertical-align: middle;\n",
       "    }\n",
       "\n",
       "    .dataframe tbody tr th {\n",
       "        vertical-align: top;\n",
       "    }\n",
       "\n",
       "    .dataframe thead th {\n",
       "        text-align: right;\n",
       "    }\n",
       "</style>\n",
       "<table border=\"1\" class=\"dataframe\">\n",
       "  <thead>\n",
       "    <tr style=\"text-align: right;\">\n",
       "      <th></th>\n",
       "      <th>City</th>\n",
       "      <th>Population</th>\n",
       "      <th>Users</th>\n",
       "    </tr>\n",
       "  </thead>\n",
       "  <tbody>\n",
       "    <tr>\n",
       "      <th>0</th>\n",
       "      <td>NEW YORK NY</td>\n",
       "      <td>8,405,837</td>\n",
       "      <td>302,149</td>\n",
       "    </tr>\n",
       "    <tr>\n",
       "      <th>1</th>\n",
       "      <td>CHICAGO IL</td>\n",
       "      <td>1,955,130</td>\n",
       "      <td>164,468</td>\n",
       "    </tr>\n",
       "    <tr>\n",
       "      <th>2</th>\n",
       "      <td>LOS ANGELES CA</td>\n",
       "      <td>1,595,037</td>\n",
       "      <td>144,132</td>\n",
       "    </tr>\n",
       "    <tr>\n",
       "      <th>3</th>\n",
       "      <td>MIAMI FL</td>\n",
       "      <td>1,339,155</td>\n",
       "      <td>17,675</td>\n",
       "    </tr>\n",
       "    <tr>\n",
       "      <th>4</th>\n",
       "      <td>SILICON VALLEY</td>\n",
       "      <td>1,177,609</td>\n",
       "      <td>27,247</td>\n",
       "    </tr>\n",
       "  </tbody>\n",
       "</table>\n",
       "</div>"
      ],
      "text/plain": [
       "             City Population    Users\n",
       "0     NEW YORK NY  8,405,837  302,149\n",
       "1      CHICAGO IL  1,955,130  164,468\n",
       "2  LOS ANGELES CA  1,595,037  144,132\n",
       "3        MIAMI FL  1,339,155   17,675\n",
       "4  SILICON VALLEY  1,177,609   27,247"
      ]
     },
     "execution_count": 10,
     "metadata": {},
     "output_type": "execute_result"
    }
   ],
   "source": [
    "City.head(5)"
   ]
  },
  {
   "cell_type": "code",
   "execution_count": 11,
   "id": "e5ca6bde-0e5a-4173-851c-63ea98ccede0",
   "metadata": {},
   "outputs": [
    {
     "name": "stdout",
     "output_type": "stream",
     "text": [
      "<class 'pandas.core.frame.DataFrame'>\n",
      "RangeIndex: 49171 entries, 0 to 49170\n",
      "Data columns (total 4 columns):\n",
      " #   Column              Non-Null Count  Dtype \n",
      "---  ------              --------------  ----- \n",
      " 0   Customer ID         49171 non-null  int64 \n",
      " 1   Gender              49171 non-null  object\n",
      " 2   Age                 49171 non-null  int64 \n",
      " 3   Income (USD/Month)  49171 non-null  int64 \n",
      "dtypes: int64(3), object(1)\n",
      "memory usage: 1.5+ MB\n"
     ]
    }
   ],
   "source": [
    "Customer_data = pd.read_csv(\"C:\\Internship\\Customer_ID.csv\")\n",
    "Customer_data.info()"
   ]
  },
  {
   "cell_type": "code",
   "execution_count": 12,
   "id": "f2644036-c256-431d-abc2-2d41e9451fce",
   "metadata": {},
   "outputs": [
    {
     "data": {
      "text/html": [
       "<div>\n",
       "<style scoped>\n",
       "    .dataframe tbody tr th:only-of-type {\n",
       "        vertical-align: middle;\n",
       "    }\n",
       "\n",
       "    .dataframe tbody tr th {\n",
       "        vertical-align: top;\n",
       "    }\n",
       "\n",
       "    .dataframe thead th {\n",
       "        text-align: right;\n",
       "    }\n",
       "</style>\n",
       "<table border=\"1\" class=\"dataframe\">\n",
       "  <thead>\n",
       "    <tr style=\"text-align: right;\">\n",
       "      <th></th>\n",
       "      <th>Customer ID</th>\n",
       "      <th>Gender</th>\n",
       "      <th>Age</th>\n",
       "      <th>Income (USD/Month)</th>\n",
       "    </tr>\n",
       "  </thead>\n",
       "  <tbody>\n",
       "    <tr>\n",
       "      <th>0</th>\n",
       "      <td>29290</td>\n",
       "      <td>Male</td>\n",
       "      <td>28</td>\n",
       "      <td>10813</td>\n",
       "    </tr>\n",
       "    <tr>\n",
       "      <th>1</th>\n",
       "      <td>27703</td>\n",
       "      <td>Male</td>\n",
       "      <td>27</td>\n",
       "      <td>9237</td>\n",
       "    </tr>\n",
       "    <tr>\n",
       "      <th>2</th>\n",
       "      <td>28712</td>\n",
       "      <td>Male</td>\n",
       "      <td>53</td>\n",
       "      <td>11242</td>\n",
       "    </tr>\n",
       "    <tr>\n",
       "      <th>3</th>\n",
       "      <td>28020</td>\n",
       "      <td>Male</td>\n",
       "      <td>23</td>\n",
       "      <td>23327</td>\n",
       "    </tr>\n",
       "    <tr>\n",
       "      <th>4</th>\n",
       "      <td>27182</td>\n",
       "      <td>Male</td>\n",
       "      <td>33</td>\n",
       "      <td>8536</td>\n",
       "    </tr>\n",
       "  </tbody>\n",
       "</table>\n",
       "</div>"
      ],
      "text/plain": [
       "   Customer ID Gender  Age  Income (USD/Month)\n",
       "0        29290   Male   28               10813\n",
       "1        27703   Male   27                9237\n",
       "2        28712   Male   53               11242\n",
       "3        28020   Male   23               23327\n",
       "4        27182   Male   33                8536"
      ]
     },
     "execution_count": 12,
     "metadata": {},
     "output_type": "execute_result"
    }
   ],
   "source": [
    "Customer_data.head(5)"
   ]
  },
  {
   "cell_type": "code",
   "execution_count": 13,
   "id": "a394d4b5-aef6-49b6-8912-b22120f567dc",
   "metadata": {},
   "outputs": [
    {
     "name": "stdout",
     "output_type": "stream",
     "text": [
      "<class 'pandas.core.frame.DataFrame'>\n",
      "RangeIndex: 440098 entries, 0 to 440097\n",
      "Data columns (total 3 columns):\n",
      " #   Column          Non-Null Count   Dtype \n",
      "---  ------          --------------   ----- \n",
      " 0   Transaction ID  440098 non-null  int64 \n",
      " 1   Customer ID     440098 non-null  int64 \n",
      " 2   Payment_Mode    440098 non-null  object\n",
      "dtypes: int64(2), object(1)\n",
      "memory usage: 10.1+ MB\n"
     ]
    }
   ],
   "source": [
    "Transaction_data = pd.read_csv(\"C:\\Internship\\Transaction_ID.csv\")\n",
    "Transaction_data.info()"
   ]
  },
  {
   "cell_type": "code",
   "execution_count": 14,
   "id": "7c2b05a5-8eeb-45e6-b1f5-119ebaa33d8c",
   "metadata": {},
   "outputs": [
    {
     "data": {
      "text/html": [
       "<div>\n",
       "<style scoped>\n",
       "    .dataframe tbody tr th:only-of-type {\n",
       "        vertical-align: middle;\n",
       "    }\n",
       "\n",
       "    .dataframe tbody tr th {\n",
       "        vertical-align: top;\n",
       "    }\n",
       "\n",
       "    .dataframe thead th {\n",
       "        text-align: right;\n",
       "    }\n",
       "</style>\n",
       "<table border=\"1\" class=\"dataframe\">\n",
       "  <thead>\n",
       "    <tr style=\"text-align: right;\">\n",
       "      <th></th>\n",
       "      <th>Transaction ID</th>\n",
       "      <th>Customer ID</th>\n",
       "      <th>Payment_Mode</th>\n",
       "    </tr>\n",
       "  </thead>\n",
       "  <tbody>\n",
       "    <tr>\n",
       "      <th>0</th>\n",
       "      <td>10000011</td>\n",
       "      <td>29290</td>\n",
       "      <td>Card</td>\n",
       "    </tr>\n",
       "    <tr>\n",
       "      <th>1</th>\n",
       "      <td>10000012</td>\n",
       "      <td>27703</td>\n",
       "      <td>Card</td>\n",
       "    </tr>\n",
       "    <tr>\n",
       "      <th>2</th>\n",
       "      <td>10000013</td>\n",
       "      <td>28712</td>\n",
       "      <td>Cash</td>\n",
       "    </tr>\n",
       "    <tr>\n",
       "      <th>3</th>\n",
       "      <td>10000014</td>\n",
       "      <td>28020</td>\n",
       "      <td>Cash</td>\n",
       "    </tr>\n",
       "    <tr>\n",
       "      <th>4</th>\n",
       "      <td>10000015</td>\n",
       "      <td>27182</td>\n",
       "      <td>Card</td>\n",
       "    </tr>\n",
       "  </tbody>\n",
       "</table>\n",
       "</div>"
      ],
      "text/plain": [
       "   Transaction ID  Customer ID Payment_Mode\n",
       "0        10000011        29290         Card\n",
       "1        10000012        27703         Card\n",
       "2        10000013        28712         Cash\n",
       "3        10000014        28020         Cash\n",
       "4        10000015        27182         Card"
      ]
     },
     "execution_count": 14,
     "metadata": {},
     "output_type": "execute_result"
    }
   ],
   "source": [
    "Transaction_data.head(5)"
   ]
  },
  {
   "cell_type": "code",
   "execution_count": 15,
   "id": "ab8334d1-3f49-43e0-a1df-d7057d5adf76",
   "metadata": {},
   "outputs": [],
   "source": [
    "USholiday = pd.read_csv(r\"C:\\Internship\\US Holiday Dates.csv\")"
   ]
  },
  {
   "cell_type": "code",
   "execution_count": 16,
   "id": "a5ba26c3-aade-4220-86b6-3e5ebc2b2d9b",
   "metadata": {},
   "outputs": [
    {
     "data": {
      "text/html": [
       "<div>\n",
       "<style scoped>\n",
       "    .dataframe tbody tr th:only-of-type {\n",
       "        vertical-align: middle;\n",
       "    }\n",
       "\n",
       "    .dataframe tbody tr th {\n",
       "        vertical-align: top;\n",
       "    }\n",
       "\n",
       "    .dataframe thead th {\n",
       "        text-align: right;\n",
       "    }\n",
       "</style>\n",
       "<table border=\"1\" class=\"dataframe\">\n",
       "  <thead>\n",
       "    <tr style=\"text-align: right;\">\n",
       "      <th></th>\n",
       "      <th>Date</th>\n",
       "      <th>Holiday</th>\n",
       "      <th>WeekDay</th>\n",
       "      <th>Month</th>\n",
       "      <th>Day</th>\n",
       "      <th>Year</th>\n",
       "    </tr>\n",
       "  </thead>\n",
       "  <tbody>\n",
       "    <tr>\n",
       "      <th>0</th>\n",
       "      <td>4/07/2004</td>\n",
       "      <td>4th of July</td>\n",
       "      <td>Sunday</td>\n",
       "      <td>7</td>\n",
       "      <td>4</td>\n",
       "      <td>2004</td>\n",
       "    </tr>\n",
       "    <tr>\n",
       "      <th>1</th>\n",
       "      <td>4/07/2005</td>\n",
       "      <td>4th of July</td>\n",
       "      <td>Monday</td>\n",
       "      <td>7</td>\n",
       "      <td>4</td>\n",
       "      <td>2005</td>\n",
       "    </tr>\n",
       "    <tr>\n",
       "      <th>2</th>\n",
       "      <td>4/07/2006</td>\n",
       "      <td>4th of July</td>\n",
       "      <td>Tuesday</td>\n",
       "      <td>7</td>\n",
       "      <td>4</td>\n",
       "      <td>2006</td>\n",
       "    </tr>\n",
       "    <tr>\n",
       "      <th>3</th>\n",
       "      <td>4/07/2007</td>\n",
       "      <td>4th of July</td>\n",
       "      <td>Wednesday</td>\n",
       "      <td>7</td>\n",
       "      <td>4</td>\n",
       "      <td>2007</td>\n",
       "    </tr>\n",
       "    <tr>\n",
       "      <th>4</th>\n",
       "      <td>4/07/2008</td>\n",
       "      <td>4th of July</td>\n",
       "      <td>Friday</td>\n",
       "      <td>7</td>\n",
       "      <td>4</td>\n",
       "      <td>2008</td>\n",
       "    </tr>\n",
       "  </tbody>\n",
       "</table>\n",
       "</div>"
      ],
      "text/plain": [
       "        Date      Holiday    WeekDay  Month  Day  Year\n",
       "0  4/07/2004  4th of July     Sunday      7    4  2004\n",
       "1  4/07/2005  4th of July     Monday      7    4  2005\n",
       "2  4/07/2006  4th of July    Tuesday      7    4  2006\n",
       "3  4/07/2007  4th of July  Wednesday      7    4  2007\n",
       "4  4/07/2008  4th of July     Friday      7    4  2008"
      ]
     },
     "execution_count": 16,
     "metadata": {},
     "output_type": "execute_result"
    }
   ],
   "source": [
    "USholiday.head()"
   ]
  },
  {
   "cell_type": "code",
   "execution_count": 17,
   "id": "6ecdf439-6c4a-4f68-8851-fe0fcfaab9c4",
   "metadata": {},
   "outputs": [],
   "source": [
    "USholiday['Date'] = pd.to_datetime(USholiday['Date'],format='%d/%m/%Y')"
   ]
  },
  {
   "cell_type": "markdown",
   "id": "f7e94436-f9c4-47f4-be37-feacf6a380b4",
   "metadata": {},
   "source": [
    "# Merging Datasets"
   ]
  },
  {
   "cell_type": "code",
   "execution_count": 18,
   "id": "0ed9f6e2-f795-4816-9838-838c32905d35",
   "metadata": {},
   "outputs": [],
   "source": [
    "merge_data_left = pd.DataFrame()\n",
    "merge_data_inner = pd.DataFrame()"
   ]
  },
  {
   "cell_type": "code",
   "execution_count": 19,
   "id": "1cb806b3-7329-4054-b6d0-3243c47ac363",
   "metadata": {},
   "outputs": [
    {
     "data": {
      "text/plain": [
       "(440098, 440098)"
      ]
     },
     "execution_count": 19,
     "metadata": {},
     "output_type": "execute_result"
    }
   ],
   "source": [
    "Transaction_data['Transaction ID'].count(), Transaction_data['Transaction ID'].nunique()"
   ]
  },
  {
   "cell_type": "markdown",
   "id": "e1adc127-d77a-4991-b7fc-a0be15045288",
   "metadata": {},
   "source": [
    "#### Checking both inner as well as left merge to decide which one would be best for analysis purposes"
   ]
  },
  {
   "cell_type": "markdown",
   "id": "5f7723be-03c0-4dc7-a125-a090dd82d872",
   "metadata": {},
   "source": [
    "#### Merge 1"
   ]
  },
  {
   "cell_type": "code",
   "execution_count": 20,
   "id": "26d830d3-cb27-46c6-bc70-f3f18a7eadab",
   "metadata": {},
   "outputs": [],
   "source": [
    "## Merging Transaction_data with Cab_Data\n",
    "\n",
    "merge_data_left = pd.merge(Transaction_data, Cab_Data,how='left',on='Transaction ID')\n",
    "merge_data_inner = pd.merge(Transaction_data, Cab_Data,how='inner',on='Transaction ID')"
   ]
  },
  {
   "cell_type": "code",
   "execution_count": 21,
   "id": "2d473aa7-82c5-4336-afd2-fb56f31ad148",
   "metadata": {},
   "outputs": [
    {
     "data": {
      "text/plain": [
       "(440098, 440098)"
      ]
     },
     "execution_count": 21,
     "metadata": {},
     "output_type": "execute_result"
    }
   ],
   "source": [
    "merge_data_left['Transaction ID'].count(), merge_data_left['Transaction ID'].nunique() "
   ]
  },
  {
   "cell_type": "code",
   "execution_count": 22,
   "id": "8326650c-5c84-46b8-9bdb-4805686d318f",
   "metadata": {},
   "outputs": [
    {
     "data": {
      "text/plain": [
       "(359392, 359392)"
      ]
     },
     "execution_count": 22,
     "metadata": {},
     "output_type": "execute_result"
    }
   ],
   "source": [
    "merge_data_inner['Transaction ID'].count(), merge_data_inner['Transaction ID'].nunique()"
   ]
  },
  {
   "cell_type": "code",
   "execution_count": 23,
   "id": "c45d2b40-4fde-4944-8921-90f64ce88208",
   "metadata": {},
   "outputs": [
    {
     "data": {
      "text/html": [
       "<div>\n",
       "<style scoped>\n",
       "    .dataframe tbody tr th:only-of-type {\n",
       "        vertical-align: middle;\n",
       "    }\n",
       "\n",
       "    .dataframe tbody tr th {\n",
       "        vertical-align: top;\n",
       "    }\n",
       "\n",
       "    .dataframe thead th {\n",
       "        text-align: right;\n",
       "    }\n",
       "</style>\n",
       "<table border=\"1\" class=\"dataframe\">\n",
       "  <thead>\n",
       "    <tr style=\"text-align: right;\">\n",
       "      <th></th>\n",
       "      <th>Transaction ID</th>\n",
       "      <th>Customer ID</th>\n",
       "      <th>Payment_Mode</th>\n",
       "      <th>Date of Travel</th>\n",
       "      <th>Company</th>\n",
       "      <th>City</th>\n",
       "      <th>KM Travelled</th>\n",
       "      <th>Price Charged</th>\n",
       "      <th>Cost of Trip</th>\n",
       "    </tr>\n",
       "  </thead>\n",
       "  <tbody>\n",
       "    <tr>\n",
       "      <th>0</th>\n",
       "      <td>10000011</td>\n",
       "      <td>29290</td>\n",
       "      <td>Card</td>\n",
       "      <td>2016-01-08</td>\n",
       "      <td>Pink Cab</td>\n",
       "      <td>ATLANTA GA</td>\n",
       "      <td>30.45</td>\n",
       "      <td>370.95</td>\n",
       "      <td>313.635</td>\n",
       "    </tr>\n",
       "    <tr>\n",
       "      <th>1</th>\n",
       "      <td>10000012</td>\n",
       "      <td>27703</td>\n",
       "      <td>Card</td>\n",
       "      <td>2016-01-06</td>\n",
       "      <td>Pink Cab</td>\n",
       "      <td>ATLANTA GA</td>\n",
       "      <td>28.62</td>\n",
       "      <td>358.52</td>\n",
       "      <td>334.854</td>\n",
       "    </tr>\n",
       "    <tr>\n",
       "      <th>2</th>\n",
       "      <td>10000013</td>\n",
       "      <td>28712</td>\n",
       "      <td>Cash</td>\n",
       "      <td>2016-01-02</td>\n",
       "      <td>Pink Cab</td>\n",
       "      <td>ATLANTA GA</td>\n",
       "      <td>9.04</td>\n",
       "      <td>125.20</td>\n",
       "      <td>97.632</td>\n",
       "    </tr>\n",
       "  </tbody>\n",
       "</table>\n",
       "</div>"
      ],
      "text/plain": [
       "   Transaction ID  Customer ID Payment_Mode Date of Travel   Company  \\\n",
       "0        10000011        29290         Card     2016-01-08  Pink Cab   \n",
       "1        10000012        27703         Card     2016-01-06  Pink Cab   \n",
       "2        10000013        28712         Cash     2016-01-02  Pink Cab   \n",
       "\n",
       "         City  KM Travelled  Price Charged  Cost of Trip  \n",
       "0  ATLANTA GA         30.45         370.95       313.635  \n",
       "1  ATLANTA GA         28.62         358.52       334.854  \n",
       "2  ATLANTA GA          9.04         125.20        97.632  "
      ]
     },
     "execution_count": 23,
     "metadata": {},
     "output_type": "execute_result"
    }
   ],
   "source": [
    "merge_data_left.head(3)"
   ]
  },
  {
   "cell_type": "markdown",
   "id": "457878df-03a3-4c90-9c30-4a4e10127881",
   "metadata": {},
   "source": [
    "#### Merge 2"
   ]
  },
  {
   "cell_type": "code",
   "execution_count": 24,
   "id": "9644aad7-ee61-423c-87c7-5c487a64f1ff",
   "metadata": {},
   "outputs": [],
   "source": [
    "## Merging merge_data_left with Cab_Data\n",
    "\n",
    "merge_data_left = pd.merge(merge_data_left, Customer_data,how='left',on='Customer ID')\n",
    "merge_data_inner = pd.merge(merge_data_inner, Customer_data,how='inner',on='Customer ID')"
   ]
  },
  {
   "cell_type": "code",
   "execution_count": 25,
   "id": "22117f78-340c-43c6-9ae8-9ce11ad81c30",
   "metadata": {},
   "outputs": [
    {
     "data": {
      "text/plain": [
       "(440098, 440098)"
      ]
     },
     "execution_count": 25,
     "metadata": {},
     "output_type": "execute_result"
    }
   ],
   "source": [
    "merge_data_left['Transaction ID'].count(), merge_data_left['Transaction ID'].nunique() "
   ]
  },
  {
   "cell_type": "code",
   "execution_count": 26,
   "id": "0ee4683f-2b4b-46ff-b7b9-844c47583454",
   "metadata": {},
   "outputs": [
    {
     "data": {
      "text/plain": [
       "(359392, 359392)"
      ]
     },
     "execution_count": 26,
     "metadata": {},
     "output_type": "execute_result"
    }
   ],
   "source": [
    "merge_data_inner['Transaction ID'].count(), merge_data_inner['Transaction ID'].nunique()"
   ]
  },
  {
   "cell_type": "code",
   "execution_count": 27,
   "id": "80166489-69cb-484e-9c70-e30987fe916e",
   "metadata": {},
   "outputs": [
    {
     "data": {
      "text/html": [
       "<div>\n",
       "<style scoped>\n",
       "    .dataframe tbody tr th:only-of-type {\n",
       "        vertical-align: middle;\n",
       "    }\n",
       "\n",
       "    .dataframe tbody tr th {\n",
       "        vertical-align: top;\n",
       "    }\n",
       "\n",
       "    .dataframe thead th {\n",
       "        text-align: right;\n",
       "    }\n",
       "</style>\n",
       "<table border=\"1\" class=\"dataframe\">\n",
       "  <thead>\n",
       "    <tr style=\"text-align: right;\">\n",
       "      <th></th>\n",
       "      <th>Transaction ID</th>\n",
       "      <th>Customer ID</th>\n",
       "      <th>Payment_Mode</th>\n",
       "      <th>Date of Travel</th>\n",
       "      <th>Company</th>\n",
       "      <th>City</th>\n",
       "      <th>KM Travelled</th>\n",
       "      <th>Price Charged</th>\n",
       "      <th>Cost of Trip</th>\n",
       "      <th>Gender</th>\n",
       "      <th>Age</th>\n",
       "      <th>Income (USD/Month)</th>\n",
       "    </tr>\n",
       "  </thead>\n",
       "  <tbody>\n",
       "    <tr>\n",
       "      <th>0</th>\n",
       "      <td>10000011</td>\n",
       "      <td>29290</td>\n",
       "      <td>Card</td>\n",
       "      <td>2016-01-08</td>\n",
       "      <td>Pink Cab</td>\n",
       "      <td>ATLANTA GA</td>\n",
       "      <td>30.45</td>\n",
       "      <td>370.95</td>\n",
       "      <td>313.635</td>\n",
       "      <td>Male</td>\n",
       "      <td>28</td>\n",
       "      <td>10813</td>\n",
       "    </tr>\n",
       "    <tr>\n",
       "      <th>1</th>\n",
       "      <td>10000012</td>\n",
       "      <td>27703</td>\n",
       "      <td>Card</td>\n",
       "      <td>2016-01-06</td>\n",
       "      <td>Pink Cab</td>\n",
       "      <td>ATLANTA GA</td>\n",
       "      <td>28.62</td>\n",
       "      <td>358.52</td>\n",
       "      <td>334.854</td>\n",
       "      <td>Male</td>\n",
       "      <td>27</td>\n",
       "      <td>9237</td>\n",
       "    </tr>\n",
       "    <tr>\n",
       "      <th>2</th>\n",
       "      <td>10000013</td>\n",
       "      <td>28712</td>\n",
       "      <td>Cash</td>\n",
       "      <td>2016-01-02</td>\n",
       "      <td>Pink Cab</td>\n",
       "      <td>ATLANTA GA</td>\n",
       "      <td>9.04</td>\n",
       "      <td>125.20</td>\n",
       "      <td>97.632</td>\n",
       "      <td>Male</td>\n",
       "      <td>53</td>\n",
       "      <td>11242</td>\n",
       "    </tr>\n",
       "  </tbody>\n",
       "</table>\n",
       "</div>"
      ],
      "text/plain": [
       "   Transaction ID  Customer ID Payment_Mode Date of Travel   Company  \\\n",
       "0        10000011        29290         Card     2016-01-08  Pink Cab   \n",
       "1        10000012        27703         Card     2016-01-06  Pink Cab   \n",
       "2        10000013        28712         Cash     2016-01-02  Pink Cab   \n",
       "\n",
       "         City  KM Travelled  Price Charged  Cost of Trip Gender  Age  \\\n",
       "0  ATLANTA GA         30.45         370.95       313.635   Male   28   \n",
       "1  ATLANTA GA         28.62         358.52       334.854   Male   27   \n",
       "2  ATLANTA GA          9.04         125.20        97.632   Male   53   \n",
       "\n",
       "   Income (USD/Month)  \n",
       "0               10813  \n",
       "1                9237  \n",
       "2               11242  "
      ]
     },
     "execution_count": 27,
     "metadata": {},
     "output_type": "execute_result"
    }
   ],
   "source": [
    "merge_data_left.head(3)"
   ]
  },
  {
   "cell_type": "markdown",
   "id": "2d802695-81de-4c52-af69-25a5d71f79d8",
   "metadata": {},
   "source": [
    "#### Merge 3"
   ]
  },
  {
   "cell_type": "code",
   "execution_count": 28,
   "id": "096043c0-2448-4708-90e4-18571cde7132",
   "metadata": {},
   "outputs": [],
   "source": [
    "## Merging merge_data_left with City\n",
    "\n",
    "merge_data_left = pd.merge(merge_data_left, City,how='left',on='City')\n",
    "merge_data_inner = pd.merge(merge_data_inner, City,how='inner',on='City')"
   ]
  },
  {
   "cell_type": "code",
   "execution_count": 29,
   "id": "a4ff9279-73de-47c4-86cf-02196578ecdd",
   "metadata": {},
   "outputs": [
    {
     "data": {
      "text/plain": [
       "(440098, 440098)"
      ]
     },
     "execution_count": 29,
     "metadata": {},
     "output_type": "execute_result"
    }
   ],
   "source": [
    "merge_data_left['Transaction ID'].count(), merge_data_left['Transaction ID'].nunique() "
   ]
  },
  {
   "cell_type": "code",
   "execution_count": 30,
   "id": "422cb644-db3c-4279-ad63-2498eede822a",
   "metadata": {},
   "outputs": [
    {
     "data": {
      "text/plain": [
       "(359392, 359392)"
      ]
     },
     "execution_count": 30,
     "metadata": {},
     "output_type": "execute_result"
    }
   ],
   "source": [
    "merge_data_inner['Transaction ID'].count(), merge_data_inner['Transaction ID'].nunique()"
   ]
  },
  {
   "cell_type": "code",
   "execution_count": 31,
   "id": "0d7005ec-ac22-4aaf-bdb9-80b394b09dfd",
   "metadata": {},
   "outputs": [
    {
     "data": {
      "text/html": [
       "<div>\n",
       "<style scoped>\n",
       "    .dataframe tbody tr th:only-of-type {\n",
       "        vertical-align: middle;\n",
       "    }\n",
       "\n",
       "    .dataframe tbody tr th {\n",
       "        vertical-align: top;\n",
       "    }\n",
       "\n",
       "    .dataframe thead th {\n",
       "        text-align: right;\n",
       "    }\n",
       "</style>\n",
       "<table border=\"1\" class=\"dataframe\">\n",
       "  <thead>\n",
       "    <tr style=\"text-align: right;\">\n",
       "      <th></th>\n",
       "      <th>Transaction ID</th>\n",
       "      <th>Customer ID</th>\n",
       "      <th>Payment_Mode</th>\n",
       "      <th>Date of Travel</th>\n",
       "      <th>Company</th>\n",
       "      <th>City</th>\n",
       "      <th>KM Travelled</th>\n",
       "      <th>Price Charged</th>\n",
       "      <th>Cost of Trip</th>\n",
       "      <th>Gender</th>\n",
       "      <th>Age</th>\n",
       "      <th>Income (USD/Month)</th>\n",
       "      <th>Population</th>\n",
       "      <th>Users</th>\n",
       "    </tr>\n",
       "  </thead>\n",
       "  <tbody>\n",
       "    <tr>\n",
       "      <th>0</th>\n",
       "      <td>10000011</td>\n",
       "      <td>29290</td>\n",
       "      <td>Card</td>\n",
       "      <td>2016-01-08</td>\n",
       "      <td>Pink Cab</td>\n",
       "      <td>ATLANTA GA</td>\n",
       "      <td>30.45</td>\n",
       "      <td>370.95</td>\n",
       "      <td>313.635</td>\n",
       "      <td>Male</td>\n",
       "      <td>28</td>\n",
       "      <td>10813</td>\n",
       "      <td>814,885</td>\n",
       "      <td>24,701</td>\n",
       "    </tr>\n",
       "    <tr>\n",
       "      <th>1</th>\n",
       "      <td>10000012</td>\n",
       "      <td>27703</td>\n",
       "      <td>Card</td>\n",
       "      <td>2016-01-06</td>\n",
       "      <td>Pink Cab</td>\n",
       "      <td>ATLANTA GA</td>\n",
       "      <td>28.62</td>\n",
       "      <td>358.52</td>\n",
       "      <td>334.854</td>\n",
       "      <td>Male</td>\n",
       "      <td>27</td>\n",
       "      <td>9237</td>\n",
       "      <td>814,885</td>\n",
       "      <td>24,701</td>\n",
       "    </tr>\n",
       "    <tr>\n",
       "      <th>2</th>\n",
       "      <td>10000013</td>\n",
       "      <td>28712</td>\n",
       "      <td>Cash</td>\n",
       "      <td>2016-01-02</td>\n",
       "      <td>Pink Cab</td>\n",
       "      <td>ATLANTA GA</td>\n",
       "      <td>9.04</td>\n",
       "      <td>125.20</td>\n",
       "      <td>97.632</td>\n",
       "      <td>Male</td>\n",
       "      <td>53</td>\n",
       "      <td>11242</td>\n",
       "      <td>814,885</td>\n",
       "      <td>24,701</td>\n",
       "    </tr>\n",
       "  </tbody>\n",
       "</table>\n",
       "</div>"
      ],
      "text/plain": [
       "   Transaction ID  Customer ID Payment_Mode Date of Travel   Company  \\\n",
       "0        10000011        29290         Card     2016-01-08  Pink Cab   \n",
       "1        10000012        27703         Card     2016-01-06  Pink Cab   \n",
       "2        10000013        28712         Cash     2016-01-02  Pink Cab   \n",
       "\n",
       "         City  KM Travelled  Price Charged  Cost of Trip Gender  Age  \\\n",
       "0  ATLANTA GA         30.45         370.95       313.635   Male   28   \n",
       "1  ATLANTA GA         28.62         358.52       334.854   Male   27   \n",
       "2  ATLANTA GA          9.04         125.20        97.632   Male   53   \n",
       "\n",
       "   Income (USD/Month) Population   Users  \n",
       "0               10813    814,885  24,701  \n",
       "1                9237    814,885  24,701  \n",
       "2               11242    814,885  24,701  "
      ]
     },
     "execution_count": 31,
     "metadata": {},
     "output_type": "execute_result"
    }
   ],
   "source": [
    "merge_data_left.head(3)"
   ]
  },
  {
   "cell_type": "code",
   "execution_count": 32,
   "id": "ac62f97e-cfff-40a0-b55a-61fb493ce984",
   "metadata": {},
   "outputs": [
    {
     "data": {
      "text/html": [
       "<div>\n",
       "<style scoped>\n",
       "    .dataframe tbody tr th:only-of-type {\n",
       "        vertical-align: middle;\n",
       "    }\n",
       "\n",
       "    .dataframe tbody tr th {\n",
       "        vertical-align: top;\n",
       "    }\n",
       "\n",
       "    .dataframe thead th {\n",
       "        text-align: right;\n",
       "    }\n",
       "</style>\n",
       "<table border=\"1\" class=\"dataframe\">\n",
       "  <thead>\n",
       "    <tr style=\"text-align: right;\">\n",
       "      <th></th>\n",
       "      <th>Transaction ID</th>\n",
       "      <th>Customer ID</th>\n",
       "      <th>Payment_Mode</th>\n",
       "      <th>Date of Travel</th>\n",
       "      <th>Company</th>\n",
       "      <th>City</th>\n",
       "      <th>KM Travelled</th>\n",
       "      <th>Price Charged</th>\n",
       "      <th>Cost of Trip</th>\n",
       "      <th>Gender</th>\n",
       "      <th>Age</th>\n",
       "      <th>Income (USD/Month)</th>\n",
       "      <th>Population</th>\n",
       "      <th>Users</th>\n",
       "    </tr>\n",
       "  </thead>\n",
       "  <tbody>\n",
       "    <tr>\n",
       "      <th>0</th>\n",
       "      <td>10000011</td>\n",
       "      <td>29290</td>\n",
       "      <td>Card</td>\n",
       "      <td>2016-01-08</td>\n",
       "      <td>Pink Cab</td>\n",
       "      <td>ATLANTA GA</td>\n",
       "      <td>30.45</td>\n",
       "      <td>370.95</td>\n",
       "      <td>313.6350</td>\n",
       "      <td>Male</td>\n",
       "      <td>28</td>\n",
       "      <td>10813</td>\n",
       "      <td>814,885</td>\n",
       "      <td>24,701</td>\n",
       "    </tr>\n",
       "    <tr>\n",
       "      <th>1</th>\n",
       "      <td>10351127</td>\n",
       "      <td>29290</td>\n",
       "      <td>Cash</td>\n",
       "      <td>2018-07-21</td>\n",
       "      <td>Yellow Cab</td>\n",
       "      <td>ATLANTA GA</td>\n",
       "      <td>26.19</td>\n",
       "      <td>598.70</td>\n",
       "      <td>317.4228</td>\n",
       "      <td>Male</td>\n",
       "      <td>28</td>\n",
       "      <td>10813</td>\n",
       "      <td>814,885</td>\n",
       "      <td>24,701</td>\n",
       "    </tr>\n",
       "    <tr>\n",
       "      <th>2</th>\n",
       "      <td>10412921</td>\n",
       "      <td>29290</td>\n",
       "      <td>Card</td>\n",
       "      <td>2018-11-23</td>\n",
       "      <td>Yellow Cab</td>\n",
       "      <td>ATLANTA GA</td>\n",
       "      <td>42.55</td>\n",
       "      <td>792.05</td>\n",
       "      <td>597.4020</td>\n",
       "      <td>Male</td>\n",
       "      <td>28</td>\n",
       "      <td>10813</td>\n",
       "      <td>814,885</td>\n",
       "      <td>24,701</td>\n",
       "    </tr>\n",
       "  </tbody>\n",
       "</table>\n",
       "</div>"
      ],
      "text/plain": [
       "   Transaction ID  Customer ID Payment_Mode Date of Travel     Company  \\\n",
       "0        10000011        29290         Card     2016-01-08    Pink Cab   \n",
       "1        10351127        29290         Cash     2018-07-21  Yellow Cab   \n",
       "2        10412921        29290         Card     2018-11-23  Yellow Cab   \n",
       "\n",
       "         City  KM Travelled  Price Charged  Cost of Trip Gender  Age  \\\n",
       "0  ATLANTA GA         30.45         370.95      313.6350   Male   28   \n",
       "1  ATLANTA GA         26.19         598.70      317.4228   Male   28   \n",
       "2  ATLANTA GA         42.55         792.05      597.4020   Male   28   \n",
       "\n",
       "   Income (USD/Month) Population   Users  \n",
       "0               10813    814,885  24,701  \n",
       "1               10813    814,885  24,701  \n",
       "2               10813    814,885  24,701  "
      ]
     },
     "execution_count": 32,
     "metadata": {},
     "output_type": "execute_result"
    }
   ],
   "source": [
    "merge_data_inner.head(3)"
   ]
  },
  {
   "cell_type": "markdown",
   "id": "45992a0a-5ee8-48d9-a409-258e70cd62e7",
   "metadata": {},
   "source": [
    "#### Merge 4 with additional dataset - 'USholiday'"
   ]
  },
  {
   "cell_type": "code",
   "execution_count": 33,
   "id": "5ac7f4bd-c04b-49dc-9b0c-b3a602c6d6e4",
   "metadata": {},
   "outputs": [],
   "source": [
    "# Merging merge_data_left with USholiday\n",
    "\n",
    "merge_data_left = pd.merge(merge_data_left, USholiday,how='left',left_on='Date of Travel',right_on ='Date')\n",
    "merge_data_inner = pd.merge(merge_data_inner, USholiday,how='inner',left_on='Date of Travel', right_on='Date')"
   ]
  },
  {
   "cell_type": "code",
   "execution_count": 34,
   "id": "134c0880-03e7-4dfc-a81d-c3d487f86113",
   "metadata": {},
   "outputs": [
    {
     "data": {
      "text/html": [
       "<div>\n",
       "<style scoped>\n",
       "    .dataframe tbody tr th:only-of-type {\n",
       "        vertical-align: middle;\n",
       "    }\n",
       "\n",
       "    .dataframe tbody tr th {\n",
       "        vertical-align: top;\n",
       "    }\n",
       "\n",
       "    .dataframe thead th {\n",
       "        text-align: right;\n",
       "    }\n",
       "</style>\n",
       "<table border=\"1\" class=\"dataframe\">\n",
       "  <thead>\n",
       "    <tr style=\"text-align: right;\">\n",
       "      <th></th>\n",
       "      <th>Transaction ID</th>\n",
       "      <th>Customer ID</th>\n",
       "      <th>Payment_Mode</th>\n",
       "      <th>Date of Travel</th>\n",
       "      <th>Company</th>\n",
       "      <th>City</th>\n",
       "      <th>KM Travelled</th>\n",
       "      <th>Price Charged</th>\n",
       "      <th>Cost of Trip</th>\n",
       "      <th>Gender</th>\n",
       "      <th>Age</th>\n",
       "      <th>Income (USD/Month)</th>\n",
       "      <th>Population</th>\n",
       "      <th>Users</th>\n",
       "      <th>Date</th>\n",
       "      <th>Holiday</th>\n",
       "      <th>WeekDay</th>\n",
       "      <th>Month</th>\n",
       "      <th>Day</th>\n",
       "      <th>Year</th>\n",
       "    </tr>\n",
       "  </thead>\n",
       "  <tbody>\n",
       "    <tr>\n",
       "      <th>0</th>\n",
       "      <td>10000011</td>\n",
       "      <td>29290</td>\n",
       "      <td>Card</td>\n",
       "      <td>2016-01-08</td>\n",
       "      <td>Pink Cab</td>\n",
       "      <td>ATLANTA GA</td>\n",
       "      <td>30.45</td>\n",
       "      <td>370.95</td>\n",
       "      <td>313.635</td>\n",
       "      <td>Male</td>\n",
       "      <td>28</td>\n",
       "      <td>10813</td>\n",
       "      <td>814,885</td>\n",
       "      <td>24,701</td>\n",
       "      <td>NaT</td>\n",
       "      <td>NaN</td>\n",
       "      <td>NaN</td>\n",
       "      <td>NaN</td>\n",
       "      <td>NaN</td>\n",
       "      <td>NaN</td>\n",
       "    </tr>\n",
       "    <tr>\n",
       "      <th>1</th>\n",
       "      <td>10000012</td>\n",
       "      <td>27703</td>\n",
       "      <td>Card</td>\n",
       "      <td>2016-01-06</td>\n",
       "      <td>Pink Cab</td>\n",
       "      <td>ATLANTA GA</td>\n",
       "      <td>28.62</td>\n",
       "      <td>358.52</td>\n",
       "      <td>334.854</td>\n",
       "      <td>Male</td>\n",
       "      <td>27</td>\n",
       "      <td>9237</td>\n",
       "      <td>814,885</td>\n",
       "      <td>24,701</td>\n",
       "      <td>NaT</td>\n",
       "      <td>NaN</td>\n",
       "      <td>NaN</td>\n",
       "      <td>NaN</td>\n",
       "      <td>NaN</td>\n",
       "      <td>NaN</td>\n",
       "    </tr>\n",
       "    <tr>\n",
       "      <th>2</th>\n",
       "      <td>10000013</td>\n",
       "      <td>28712</td>\n",
       "      <td>Cash</td>\n",
       "      <td>2016-01-02</td>\n",
       "      <td>Pink Cab</td>\n",
       "      <td>ATLANTA GA</td>\n",
       "      <td>9.04</td>\n",
       "      <td>125.20</td>\n",
       "      <td>97.632</td>\n",
       "      <td>Male</td>\n",
       "      <td>53</td>\n",
       "      <td>11242</td>\n",
       "      <td>814,885</td>\n",
       "      <td>24,701</td>\n",
       "      <td>NaT</td>\n",
       "      <td>NaN</td>\n",
       "      <td>NaN</td>\n",
       "      <td>NaN</td>\n",
       "      <td>NaN</td>\n",
       "      <td>NaN</td>\n",
       "    </tr>\n",
       "    <tr>\n",
       "      <th>3</th>\n",
       "      <td>10000014</td>\n",
       "      <td>28020</td>\n",
       "      <td>Cash</td>\n",
       "      <td>2016-01-07</td>\n",
       "      <td>Pink Cab</td>\n",
       "      <td>ATLANTA GA</td>\n",
       "      <td>33.17</td>\n",
       "      <td>377.40</td>\n",
       "      <td>351.602</td>\n",
       "      <td>Male</td>\n",
       "      <td>23</td>\n",
       "      <td>23327</td>\n",
       "      <td>814,885</td>\n",
       "      <td>24,701</td>\n",
       "      <td>NaT</td>\n",
       "      <td>NaN</td>\n",
       "      <td>NaN</td>\n",
       "      <td>NaN</td>\n",
       "      <td>NaN</td>\n",
       "      <td>NaN</td>\n",
       "    </tr>\n",
       "    <tr>\n",
       "      <th>4</th>\n",
       "      <td>10000015</td>\n",
       "      <td>27182</td>\n",
       "      <td>Card</td>\n",
       "      <td>2016-01-03</td>\n",
       "      <td>Pink Cab</td>\n",
       "      <td>ATLANTA GA</td>\n",
       "      <td>8.73</td>\n",
       "      <td>114.62</td>\n",
       "      <td>97.776</td>\n",
       "      <td>Male</td>\n",
       "      <td>33</td>\n",
       "      <td>8536</td>\n",
       "      <td>814,885</td>\n",
       "      <td>24,701</td>\n",
       "      <td>NaT</td>\n",
       "      <td>NaN</td>\n",
       "      <td>NaN</td>\n",
       "      <td>NaN</td>\n",
       "      <td>NaN</td>\n",
       "      <td>NaN</td>\n",
       "    </tr>\n",
       "  </tbody>\n",
       "</table>\n",
       "</div>"
      ],
      "text/plain": [
       "   Transaction ID  Customer ID Payment_Mode Date of Travel   Company  \\\n",
       "0        10000011        29290         Card     2016-01-08  Pink Cab   \n",
       "1        10000012        27703         Card     2016-01-06  Pink Cab   \n",
       "2        10000013        28712         Cash     2016-01-02  Pink Cab   \n",
       "3        10000014        28020         Cash     2016-01-07  Pink Cab   \n",
       "4        10000015        27182         Card     2016-01-03  Pink Cab   \n",
       "\n",
       "         City  KM Travelled  Price Charged  Cost of Trip Gender  Age  \\\n",
       "0  ATLANTA GA         30.45         370.95       313.635   Male   28   \n",
       "1  ATLANTA GA         28.62         358.52       334.854   Male   27   \n",
       "2  ATLANTA GA          9.04         125.20        97.632   Male   53   \n",
       "3  ATLANTA GA         33.17         377.40       351.602   Male   23   \n",
       "4  ATLANTA GA          8.73         114.62        97.776   Male   33   \n",
       "\n",
       "   Income (USD/Month) Population   Users Date Holiday WeekDay  Month  Day  \\\n",
       "0               10813    814,885  24,701  NaT     NaN     NaN    NaN  NaN   \n",
       "1                9237    814,885  24,701  NaT     NaN     NaN    NaN  NaN   \n",
       "2               11242    814,885  24,701  NaT     NaN     NaN    NaN  NaN   \n",
       "3               23327    814,885  24,701  NaT     NaN     NaN    NaN  NaN   \n",
       "4                8536    814,885  24,701  NaT     NaN     NaN    NaN  NaN   \n",
       "\n",
       "   Year  \n",
       "0   NaN  \n",
       "1   NaN  \n",
       "2   NaN  \n",
       "3   NaN  \n",
       "4   NaN  "
      ]
     },
     "execution_count": 34,
     "metadata": {},
     "output_type": "execute_result"
    }
   ],
   "source": [
    "merge_data_left.head()"
   ]
  },
  {
   "cell_type": "code",
   "execution_count": 35,
   "id": "25363ca5-2cc8-41c0-836d-0f512653e365",
   "metadata": {},
   "outputs": [
    {
     "data": {
      "text/plain": [
       "421454"
      ]
     },
     "execution_count": 35,
     "metadata": {},
     "output_type": "execute_result"
    }
   ],
   "source": [
    "merge_data_left['Date'].isnull().sum()"
   ]
  },
  {
   "cell_type": "code",
   "execution_count": 36,
   "id": "a79b2f4d-70b1-417d-95d2-e11fb3583b5e",
   "metadata": {},
   "outputs": [
    {
     "data": {
      "text/html": [
       "<div>\n",
       "<style scoped>\n",
       "    .dataframe tbody tr th:only-of-type {\n",
       "        vertical-align: middle;\n",
       "    }\n",
       "\n",
       "    .dataframe tbody tr th {\n",
       "        vertical-align: top;\n",
       "    }\n",
       "\n",
       "    .dataframe thead th {\n",
       "        text-align: right;\n",
       "    }\n",
       "</style>\n",
       "<table border=\"1\" class=\"dataframe\">\n",
       "  <thead>\n",
       "    <tr style=\"text-align: right;\">\n",
       "      <th></th>\n",
       "      <th>Transaction ID</th>\n",
       "      <th>Customer ID</th>\n",
       "      <th>Payment_Mode</th>\n",
       "      <th>Date of Travel</th>\n",
       "      <th>Company</th>\n",
       "      <th>City</th>\n",
       "      <th>KM Travelled</th>\n",
       "      <th>Price Charged</th>\n",
       "      <th>Cost of Trip</th>\n",
       "      <th>Gender</th>\n",
       "      <th>Age</th>\n",
       "      <th>Income (USD/Month)</th>\n",
       "      <th>Population</th>\n",
       "      <th>Users</th>\n",
       "      <th>Date</th>\n",
       "      <th>Holiday</th>\n",
       "      <th>WeekDay</th>\n",
       "      <th>Month</th>\n",
       "      <th>Day</th>\n",
       "      <th>Year</th>\n",
       "    </tr>\n",
       "  </thead>\n",
       "  <tbody>\n",
       "    <tr>\n",
       "      <th>0</th>\n",
       "      <td>10072285</td>\n",
       "      <td>27318</td>\n",
       "      <td>Card</td>\n",
       "      <td>2016-09-04</td>\n",
       "      <td>Pink Cab</td>\n",
       "      <td>ATLANTA GA</td>\n",
       "      <td>45.20</td>\n",
       "      <td>539.01</td>\n",
       "      <td>479.1200</td>\n",
       "      <td>Male</td>\n",
       "      <td>25</td>\n",
       "      <td>13984</td>\n",
       "      <td>814,885</td>\n",
       "      <td>24,701</td>\n",
       "      <td>2016-09-04</td>\n",
       "      <td>Labor Day Weekend</td>\n",
       "      <td>Sunday</td>\n",
       "      <td>9</td>\n",
       "      <td>4</td>\n",
       "      <td>2016</td>\n",
       "    </tr>\n",
       "    <tr>\n",
       "      <th>1</th>\n",
       "      <td>10073170</td>\n",
       "      <td>29558</td>\n",
       "      <td>Card</td>\n",
       "      <td>2016-09-04</td>\n",
       "      <td>Yellow Cab</td>\n",
       "      <td>ATLANTA GA</td>\n",
       "      <td>29.38</td>\n",
       "      <td>585.56</td>\n",
       "      <td>401.9184</td>\n",
       "      <td>Male</td>\n",
       "      <td>27</td>\n",
       "      <td>9555</td>\n",
       "      <td>814,885</td>\n",
       "      <td>24,701</td>\n",
       "      <td>2016-09-04</td>\n",
       "      <td>Labor Day Weekend</td>\n",
       "      <td>Sunday</td>\n",
       "      <td>9</td>\n",
       "      <td>4</td>\n",
       "      <td>2016</td>\n",
       "    </tr>\n",
       "    <tr>\n",
       "      <th>2</th>\n",
       "      <td>10073189</td>\n",
       "      <td>29763</td>\n",
       "      <td>Card</td>\n",
       "      <td>2016-09-04</td>\n",
       "      <td>Yellow Cab</td>\n",
       "      <td>ATLANTA GA</td>\n",
       "      <td>10.53</td>\n",
       "      <td>185.18</td>\n",
       "      <td>144.0504</td>\n",
       "      <td>Male</td>\n",
       "      <td>47</td>\n",
       "      <td>15309</td>\n",
       "      <td>814,885</td>\n",
       "      <td>24,701</td>\n",
       "      <td>2016-09-04</td>\n",
       "      <td>Labor Day Weekend</td>\n",
       "      <td>Sunday</td>\n",
       "      <td>9</td>\n",
       "      <td>4</td>\n",
       "      <td>2016</td>\n",
       "    </tr>\n",
       "    <tr>\n",
       "      <th>3</th>\n",
       "      <td>10069464</td>\n",
       "      <td>29990</td>\n",
       "      <td>Card</td>\n",
       "      <td>2016-09-04</td>\n",
       "      <td>Pink Cab</td>\n",
       "      <td>ATLANTA GA</td>\n",
       "      <td>36.36</td>\n",
       "      <td>388.58</td>\n",
       "      <td>429.0480</td>\n",
       "      <td>Male</td>\n",
       "      <td>61</td>\n",
       "      <td>18475</td>\n",
       "      <td>814,885</td>\n",
       "      <td>24,701</td>\n",
       "      <td>2016-09-04</td>\n",
       "      <td>Labor Day Weekend</td>\n",
       "      <td>Sunday</td>\n",
       "      <td>9</td>\n",
       "      <td>4</td>\n",
       "      <td>2016</td>\n",
       "    </tr>\n",
       "    <tr>\n",
       "      <th>4</th>\n",
       "      <td>10072292</td>\n",
       "      <td>27925</td>\n",
       "      <td>Card</td>\n",
       "      <td>2016-09-04</td>\n",
       "      <td>Pink Cab</td>\n",
       "      <td>ATLANTA GA</td>\n",
       "      <td>37.83</td>\n",
       "      <td>458.97</td>\n",
       "      <td>438.8280</td>\n",
       "      <td>Female</td>\n",
       "      <td>24</td>\n",
       "      <td>23541</td>\n",
       "      <td>814,885</td>\n",
       "      <td>24,701</td>\n",
       "      <td>2016-09-04</td>\n",
       "      <td>Labor Day Weekend</td>\n",
       "      <td>Sunday</td>\n",
       "      <td>9</td>\n",
       "      <td>4</td>\n",
       "      <td>2016</td>\n",
       "    </tr>\n",
       "  </tbody>\n",
       "</table>\n",
       "</div>"
      ],
      "text/plain": [
       "   Transaction ID  Customer ID Payment_Mode Date of Travel     Company  \\\n",
       "0        10072285        27318         Card     2016-09-04    Pink Cab   \n",
       "1        10073170        29558         Card     2016-09-04  Yellow Cab   \n",
       "2        10073189        29763         Card     2016-09-04  Yellow Cab   \n",
       "3        10069464        29990         Card     2016-09-04    Pink Cab   \n",
       "4        10072292        27925         Card     2016-09-04    Pink Cab   \n",
       "\n",
       "         City  KM Travelled  Price Charged  Cost of Trip  Gender  Age  \\\n",
       "0  ATLANTA GA         45.20         539.01      479.1200    Male   25   \n",
       "1  ATLANTA GA         29.38         585.56      401.9184    Male   27   \n",
       "2  ATLANTA GA         10.53         185.18      144.0504    Male   47   \n",
       "3  ATLANTA GA         36.36         388.58      429.0480    Male   61   \n",
       "4  ATLANTA GA         37.83         458.97      438.8280  Female   24   \n",
       "\n",
       "   Income (USD/Month) Population   Users       Date            Holiday  \\\n",
       "0               13984    814,885  24,701 2016-09-04  Labor Day Weekend   \n",
       "1                9555    814,885  24,701 2016-09-04  Labor Day Weekend   \n",
       "2               15309    814,885  24,701 2016-09-04  Labor Day Weekend   \n",
       "3               18475    814,885  24,701 2016-09-04  Labor Day Weekend   \n",
       "4               23541    814,885  24,701 2016-09-04  Labor Day Weekend   \n",
       "\n",
       "  WeekDay  Month  Day  Year  \n",
       "0  Sunday      9    4  2016  \n",
       "1  Sunday      9    4  2016  \n",
       "2  Sunday      9    4  2016  \n",
       "3  Sunday      9    4  2016  \n",
       "4  Sunday      9    4  2016  "
      ]
     },
     "execution_count": 36,
     "metadata": {},
     "output_type": "execute_result"
    }
   ],
   "source": [
    "merge_data_inner.head()"
   ]
  },
  {
   "cell_type": "code",
   "execution_count": 37,
   "id": "f60991b5-9233-405a-b491-228263536576",
   "metadata": {},
   "outputs": [
    {
     "data": {
      "text/plain": [
       "(19106, 18644)"
      ]
     },
     "execution_count": 37,
     "metadata": {},
     "output_type": "execute_result"
    }
   ],
   "source": [
    "merge_data_inner['Transaction ID'].count(), merge_data_inner['Transaction ID'].nunique()"
   ]
  },
  {
   "cell_type": "code",
   "execution_count": 38,
   "id": "326e81bd-97c7-45cd-b1c9-2a444a8d77cd",
   "metadata": {},
   "outputs": [
    {
     "data": {
      "text/plain": [
       "(440560, 440098)"
      ]
     },
     "execution_count": 38,
     "metadata": {},
     "output_type": "execute_result"
    }
   ],
   "source": [
    "merge_data_left['Transaction ID'].count(),merge_data_left['Transaction ID'].nunique()"
   ]
  },
  {
   "cell_type": "code",
   "execution_count": 39,
   "id": "b0c91aa0-fdc3-4a70-92f5-0478ae0f2472",
   "metadata": {},
   "outputs": [
    {
     "data": {
      "text/plain": [
       "421454"
      ]
     },
     "execution_count": 39,
     "metadata": {},
     "output_type": "execute_result"
    }
   ],
   "source": [
    "440560 - 19106"
   ]
  },
  {
   "cell_type": "markdown",
   "id": "0f1e9bb0-591c-4888-96d8-68eafbd7da2d",
   "metadata": {},
   "source": [
    "##### On comparing both type of merges - inner and left, I have decided to use left merge data as it has much more date available as compared to inner join as calculated in the above cells"
   ]
  },
  {
   "cell_type": "markdown",
   "id": "8d67d84b-64d5-4e14-be2d-f2523a543fcb",
   "metadata": {},
   "source": [
    "# Detection"
   ]
  },
  {
   "cell_type": "code",
   "execution_count": 40,
   "id": "424f0d57-3d0e-4b5c-b0ec-80b9cc2d4adc",
   "metadata": {},
   "outputs": [
    {
     "data": {
      "text/plain": [
       "Transaction ID             0\n",
       "Customer ID                0\n",
       "Payment_Mode               0\n",
       "Date of Travel         80706\n",
       "Company                80706\n",
       "City                   80706\n",
       "KM Travelled           80706\n",
       "Price Charged          80706\n",
       "Cost of Trip           80706\n",
       "Gender                     0\n",
       "Age                        0\n",
       "Income (USD/Month)         0\n",
       "Population             80706\n",
       "Users                  80706\n",
       "Date                  421454\n",
       "Holiday               421454\n",
       "WeekDay               421454\n",
       "Month                 421454\n",
       "Day                   421454\n",
       "Year                  421454\n",
       "dtype: int64"
      ]
     },
     "execution_count": 40,
     "metadata": {},
     "output_type": "execute_result"
    }
   ],
   "source": [
    "merge_data_left.isnull().sum()"
   ]
  },
  {
   "cell_type": "markdown",
   "id": "253427bd-55c6-45b2-bd9b-6405b73ec3ea",
   "metadata": {
    "tags": []
   },
   "source": [
    "#### Detecting duplicates"
   ]
  },
  {
   "cell_type": "code",
   "execution_count": 41,
   "id": "9d4830af-e14c-4d29-9602-007e15f325bd",
   "metadata": {},
   "outputs": [
    {
     "data": {
      "text/plain": [
       "0"
      ]
     },
     "execution_count": 41,
     "metadata": {},
     "output_type": "execute_result"
    }
   ],
   "source": [
    "merge_data_left.duplicated().sum()"
   ]
  },
  {
   "cell_type": "code",
   "execution_count": 42,
   "id": "9526199e-19e8-4344-a5e6-04722f663685",
   "metadata": {},
   "outputs": [],
   "source": [
    "##duplicate_rows = merge_data_left[merge_data_left.duplicated()]"
   ]
  },
  {
   "cell_type": "markdown",
   "id": "2d0b7578-84aa-4b73-b0bf-1db9c9a0c2aa",
   "metadata": {},
   "source": [
    "# Treatments"
   ]
  },
  {
   "cell_type": "markdown",
   "id": "4a7dcd7e-2bbf-4bdf-b997-eb891c7daf46",
   "metadata": {},
   "source": [
    "#### Removing duplicates"
   ]
  },
  {
   "cell_type": "code",
   "execution_count": 43,
   "id": "788f378b-dffc-4f11-9451-4e068af1c4e5",
   "metadata": {},
   "outputs": [],
   "source": [
    "merge_data_left.drop_duplicates(inplace=True)"
   ]
  },
  {
   "cell_type": "code",
   "execution_count": 44,
   "id": "917dfde7-e1af-49a5-a0c0-0dd17e4394b4",
   "metadata": {},
   "outputs": [
    {
     "data": {
      "text/plain": [
       "0"
      ]
     },
     "execution_count": 44,
     "metadata": {},
     "output_type": "execute_result"
    }
   ],
   "source": [
    "merge_data_left.duplicated().sum()"
   ]
  },
  {
   "cell_type": "markdown",
   "id": "a77125b7-2029-4119-9f4e-307a22ba5627",
   "metadata": {},
   "source": [
    "## NUll Value Treatments"
   ]
  },
  {
   "cell_type": "markdown",
   "id": "46e034ae-4312-4859-8a1e-1508e25f0c3f",
   "metadata": {},
   "source": [
    "#### dropping null value columns"
   ]
  },
  {
   "cell_type": "code",
   "execution_count": 45,
   "id": "c77d76cc-6f0c-44d0-a135-179984985d48",
   "metadata": {},
   "outputs": [],
   "source": [
    "drop_cols =['WeekDay','Month','Day','Year']\n",
    "merge_data_left =merge_data_left.drop(columns = drop_cols)"
   ]
  },
  {
   "cell_type": "markdown",
   "id": "302fd8d1-a3b0-4c09-a49a-f763d7ea60f7",
   "metadata": {},
   "source": [
    "# Creating a new feature to find out if the date of travel and holiday date are same for analysis\n"
   ]
  },
  {
   "cell_type": "markdown",
   "id": "4e7fdddf-6c6d-4a5a-ad13-7c86df2ffe27",
   "metadata": {},
   "source": [
    "#### Converting all NUll Values in df_final ['Date'] column to today's date to be able to create Holiday feature"
   ]
  },
  {
   "cell_type": "code",
   "execution_count": 46,
   "id": "0de3809b-64a9-41bc-a875-227bde977b7d",
   "metadata": {},
   "outputs": [],
   "source": [
    "today = dt.datetime.now()"
   ]
  },
  {
   "cell_type": "code",
   "execution_count": 47,
   "id": "a3c03923-8224-475a-be76-c61ea48a8e66",
   "metadata": {},
   "outputs": [],
   "source": [
    "merge_data_left['Date'] = merge_data_left['Date'].fillna(today)"
   ]
  },
  {
   "cell_type": "markdown",
   "id": "93c7c791-cc80-4f4d-a8d0-cc7c9b86241f",
   "metadata": {},
   "source": [
    "#### Checking if 'Date' and \"Date of Travel' have the same format before creating the feature"
   ]
  },
  {
   "cell_type": "code",
   "execution_count": 48,
   "id": "7c6d6239-224a-43f7-931f-f4196000db21",
   "metadata": {},
   "outputs": [
    {
     "data": {
      "text/plain": [
       "Timestamp('2016-01-08 00:00:00')"
      ]
     },
     "execution_count": 48,
     "metadata": {},
     "output_type": "execute_result"
    }
   ],
   "source": [
    "merge_data_left['Date of Travel'][0]"
   ]
  },
  {
   "cell_type": "code",
   "execution_count": 49,
   "id": "534e94c0-0391-4cfa-a99c-327324314038",
   "metadata": {},
   "outputs": [
    {
     "data": {
      "text/plain": [
       "Timestamp('2016-01-18 00:00:00')"
      ]
     },
     "execution_count": 49,
     "metadata": {},
     "output_type": "execute_result"
    }
   ],
   "source": [
    "merge_data_left[~(merge_data_left['Date'] == today) ]['Date'][1384]"
   ]
  },
  {
   "cell_type": "code",
   "execution_count": 50,
   "id": "3361aa46-80f6-4348-af5b-e59c5b08a474",
   "metadata": {},
   "outputs": [],
   "source": [
    "merge_data_left['Holiday'] = np.where( (merge_data_left['Date of Travel']== merge_data_left['Date']), 'Yes', 'No')"
   ]
  },
  {
   "cell_type": "markdown",
   "id": "fbed3467-bb55-4b2f-a0b7-9bbf5201736f",
   "metadata": {},
   "source": [
    "#### Filter NULL values"
   ]
  },
  {
   "cell_type": "code",
   "execution_count": 51,
   "id": "0b067465-7f9a-4d03-9e44-c9b160fb6aa8",
   "metadata": {},
   "outputs": [],
   "source": [
    "df_final = merge_data_left.dropna(subset = ['Cost of Trip'])"
   ]
  },
  {
   "cell_type": "code",
   "execution_count": 52,
   "id": "f1c22b79-bd08-4b02-acdc-dd7f800f229a",
   "metadata": {},
   "outputs": [
    {
     "data": {
      "text/plain": [
       "(440560, 359854)"
      ]
     },
     "execution_count": 52,
     "metadata": {},
     "output_type": "execute_result"
    }
   ],
   "source": [
    "merge_data_left['Transaction ID'].count(), df_final['Transaction ID'].count(), "
   ]
  },
  {
   "cell_type": "code",
   "execution_count": 53,
   "id": "03a8ccd0-e568-4246-b68d-aad1e7948996",
   "metadata": {},
   "outputs": [
    {
     "data": {
      "text/plain": [
       "Transaction ID        0\n",
       "Customer ID           0\n",
       "Payment_Mode          0\n",
       "Date of Travel        0\n",
       "Company               0\n",
       "City                  0\n",
       "KM Travelled          0\n",
       "Price Charged         0\n",
       "Cost of Trip          0\n",
       "Gender                0\n",
       "Age                   0\n",
       "Income (USD/Month)    0\n",
       "Population            0\n",
       "Users                 0\n",
       "Date                  0\n",
       "Holiday               0\n",
       "dtype: int64"
      ]
     },
     "execution_count": 53,
     "metadata": {},
     "output_type": "execute_result"
    }
   ],
   "source": [
    "df_final.isnull().sum()"
   ]
  },
  {
   "cell_type": "code",
   "execution_count": 166,
   "id": "36c999d2-a6c9-4266-ae9d-30604150d967",
   "metadata": {},
   "outputs": [
    {
     "data": {
      "text/html": [
       "<div>\n",
       "<style scoped>\n",
       "    .dataframe tbody tr th:only-of-type {\n",
       "        vertical-align: middle;\n",
       "    }\n",
       "\n",
       "    .dataframe tbody tr th {\n",
       "        vertical-align: top;\n",
       "    }\n",
       "\n",
       "    .dataframe thead th {\n",
       "        text-align: right;\n",
       "    }\n",
       "</style>\n",
       "<table border=\"1\" class=\"dataframe\">\n",
       "  <thead>\n",
       "    <tr style=\"text-align: right;\">\n",
       "      <th></th>\n",
       "      <th>Transaction ID</th>\n",
       "      <th>Customer ID</th>\n",
       "      <th>Payment_Mode</th>\n",
       "      <th>Date of Travel</th>\n",
       "      <th>Company</th>\n",
       "      <th>City</th>\n",
       "      <th>KM Travelled</th>\n",
       "      <th>Price Charged</th>\n",
       "      <th>Cost of Trip</th>\n",
       "      <th>Gender</th>\n",
       "      <th>...</th>\n",
       "      <th>Income (USD/Month)</th>\n",
       "      <th>Population</th>\n",
       "      <th>Users</th>\n",
       "      <th>Holiday</th>\n",
       "      <th>Profit</th>\n",
       "      <th>Year</th>\n",
       "      <th>Month</th>\n",
       "      <th>Income Group</th>\n",
       "      <th>Age Group</th>\n",
       "      <th>Travel Matches Holiday</th>\n",
       "    </tr>\n",
       "  </thead>\n",
       "  <tbody>\n",
       "    <tr>\n",
       "      <th>549</th>\n",
       "      <td>10000560</td>\n",
       "      <td>4021</td>\n",
       "      <td>Card</td>\n",
       "      <td>2016-01-02</td>\n",
       "      <td>Yellow Cab</td>\n",
       "      <td>CHICAGO IL</td>\n",
       "      <td>18.08</td>\n",
       "      <td>406.95</td>\n",
       "      <td>221.2992</td>\n",
       "      <td>Male</td>\n",
       "      <td>...</td>\n",
       "      <td>30186</td>\n",
       "      <td>1,955,130</td>\n",
       "      <td>164,468</td>\n",
       "      <td>No</td>\n",
       "      <td>185.6508</td>\n",
       "      <td>2016</td>\n",
       "      <td>1</td>\n",
       "      <td>Medium</td>\n",
       "      <td>Middle-Aged</td>\n",
       "      <td>0</td>\n",
       "    </tr>\n",
       "    <tr>\n",
       "      <th>457</th>\n",
       "      <td>10000468</td>\n",
       "      <td>4269</td>\n",
       "      <td>Cash</td>\n",
       "      <td>2016-01-02</td>\n",
       "      <td>Yellow Cab</td>\n",
       "      <td>CHICAGO IL</td>\n",
       "      <td>27.30</td>\n",
       "      <td>583.42</td>\n",
       "      <td>383.2920</td>\n",
       "      <td>Male</td>\n",
       "      <td>...</td>\n",
       "      <td>19370</td>\n",
       "      <td>1,955,130</td>\n",
       "      <td>164,468</td>\n",
       "      <td>No</td>\n",
       "      <td>200.1280</td>\n",
       "      <td>2016</td>\n",
       "      <td>1</td>\n",
       "      <td>Low</td>\n",
       "      <td>Super Senior</td>\n",
       "      <td>0</td>\n",
       "    </tr>\n",
       "    <tr>\n",
       "      <th>639</th>\n",
       "      <td>10000650</td>\n",
       "      <td>3778</td>\n",
       "      <td>Card</td>\n",
       "      <td>2016-01-02</td>\n",
       "      <td>Yellow Cab</td>\n",
       "      <td>CHICAGO IL</td>\n",
       "      <td>40.66</td>\n",
       "      <td>1005.24</td>\n",
       "      <td>522.0744</td>\n",
       "      <td>Male</td>\n",
       "      <td>...</td>\n",
       "      <td>12755</td>\n",
       "      <td>1,955,130</td>\n",
       "      <td>164,468</td>\n",
       "      <td>No</td>\n",
       "      <td>483.1656</td>\n",
       "      <td>2016</td>\n",
       "      <td>1</td>\n",
       "      <td>Low</td>\n",
       "      <td>Middle-Aged</td>\n",
       "      <td>0</td>\n",
       "    </tr>\n",
       "    <tr>\n",
       "      <th>901</th>\n",
       "      <td>10000912</td>\n",
       "      <td>2731</td>\n",
       "      <td>Cash</td>\n",
       "      <td>2016-01-02</td>\n",
       "      <td>Yellow Cab</td>\n",
       "      <td>NEW YORK NY</td>\n",
       "      <td>13.86</td>\n",
       "      <td>407.20</td>\n",
       "      <td>174.6360</td>\n",
       "      <td>Male</td>\n",
       "      <td>...</td>\n",
       "      <td>22350</td>\n",
       "      <td>8,405,837</td>\n",
       "      <td>302,149</td>\n",
       "      <td>No</td>\n",
       "      <td>232.5640</td>\n",
       "      <td>2016</td>\n",
       "      <td>1</td>\n",
       "      <td>Low</td>\n",
       "      <td>Middle-Aged</td>\n",
       "      <td>0</td>\n",
       "    </tr>\n",
       "    <tr>\n",
       "      <th>1221</th>\n",
       "      <td>10001232</td>\n",
       "      <td>37393</td>\n",
       "      <td>Card</td>\n",
       "      <td>2016-01-02</td>\n",
       "      <td>Yellow Cab</td>\n",
       "      <td>SEATTLE WA</td>\n",
       "      <td>16.24</td>\n",
       "      <td>540.27</td>\n",
       "      <td>210.4704</td>\n",
       "      <td>Male</td>\n",
       "      <td>...</td>\n",
       "      <td>22205</td>\n",
       "      <td>671,238</td>\n",
       "      <td>25,063</td>\n",
       "      <td>No</td>\n",
       "      <td>329.7996</td>\n",
       "      <td>2016</td>\n",
       "      <td>1</td>\n",
       "      <td>Low</td>\n",
       "      <td>Young</td>\n",
       "      <td>0</td>\n",
       "    </tr>\n",
       "  </tbody>\n",
       "</table>\n",
       "<p>5 rows × 21 columns</p>\n",
       "</div>"
      ],
      "text/plain": [
       "      Transaction ID  Customer ID Payment_Mode Date of Travel     Company  \\\n",
       "549         10000560         4021         Card     2016-01-02  Yellow Cab   \n",
       "457         10000468         4269         Cash     2016-01-02  Yellow Cab   \n",
       "639         10000650         3778         Card     2016-01-02  Yellow Cab   \n",
       "901         10000912         2731         Cash     2016-01-02  Yellow Cab   \n",
       "1221        10001232        37393         Card     2016-01-02  Yellow Cab   \n",
       "\n",
       "             City  KM Travelled  Price Charged  Cost of Trip Gender  ...  \\\n",
       "549    CHICAGO IL         18.08         406.95      221.2992   Male  ...   \n",
       "457    CHICAGO IL         27.30         583.42      383.2920   Male  ...   \n",
       "639    CHICAGO IL         40.66        1005.24      522.0744   Male  ...   \n",
       "901   NEW YORK NY         13.86         407.20      174.6360   Male  ...   \n",
       "1221   SEATTLE WA         16.24         540.27      210.4704   Male  ...   \n",
       "\n",
       "      Income (USD/Month)  Population    Users Holiday    Profit  Year  Month  \\\n",
       "549                30186   1,955,130  164,468      No  185.6508  2016      1   \n",
       "457                19370   1,955,130  164,468      No  200.1280  2016      1   \n",
       "639                12755   1,955,130  164,468      No  483.1656  2016      1   \n",
       "901                22350   8,405,837  302,149      No  232.5640  2016      1   \n",
       "1221               22205     671,238   25,063      No  329.7996  2016      1   \n",
       "\n",
       "      Income Group     Age Group Travel Matches Holiday  \n",
       "549         Medium   Middle-Aged                      0  \n",
       "457            Low  Super Senior                      0  \n",
       "639            Low   Middle-Aged                      0  \n",
       "901            Low   Middle-Aged                      0  \n",
       "1221           Low         Young                      0  \n",
       "\n",
       "[5 rows x 21 columns]"
      ]
     },
     "execution_count": 166,
     "metadata": {},
     "output_type": "execute_result"
    }
   ],
   "source": [
    "df_final.head()"
   ]
  },
  {
   "cell_type": "code",
   "execution_count": 55,
   "id": "38b44775-426a-44c1-a77a-e348ae3654ab",
   "metadata": {},
   "outputs": [
    {
     "data": {
      "text/plain": [
       "No     340748\n",
       "Yes     19106\n",
       "Name: Holiday, dtype: int64"
      ]
     },
     "execution_count": 55,
     "metadata": {},
     "output_type": "execute_result"
    }
   ],
   "source": [
    "df_final['Holiday'].value_counts()"
   ]
  },
  {
   "cell_type": "markdown",
   "id": "e8d9bb57-fb24-45b9-9b2e-d950710349e1",
   "metadata": {},
   "source": [
    "# Detecting Outliers"
   ]
  },
  {
   "cell_type": "code",
   "execution_count": 56,
   "id": "1b3eede9-6696-4639-80c4-689cbf8727ed",
   "metadata": {},
   "outputs": [
    {
     "data": {
      "text/html": [
       "<div>\n",
       "<style scoped>\n",
       "    .dataframe tbody tr th:only-of-type {\n",
       "        vertical-align: middle;\n",
       "    }\n",
       "\n",
       "    .dataframe tbody tr th {\n",
       "        vertical-align: top;\n",
       "    }\n",
       "\n",
       "    .dataframe thead th {\n",
       "        text-align: right;\n",
       "    }\n",
       "</style>\n",
       "<table border=\"1\" class=\"dataframe\">\n",
       "  <thead>\n",
       "    <tr style=\"text-align: right;\">\n",
       "      <th></th>\n",
       "      <th>Transaction ID</th>\n",
       "      <th>Customer ID</th>\n",
       "      <th>KM Travelled</th>\n",
       "      <th>Price Charged</th>\n",
       "      <th>Cost of Trip</th>\n",
       "      <th>Age</th>\n",
       "      <th>Income (USD/Month)</th>\n",
       "    </tr>\n",
       "  </thead>\n",
       "  <tbody>\n",
       "    <tr>\n",
       "      <th>count</th>\n",
       "      <td>3.598540e+05</td>\n",
       "      <td>359854.000000</td>\n",
       "      <td>359854.000000</td>\n",
       "      <td>359854.000000</td>\n",
       "      <td>359854.000000</td>\n",
       "      <td>359854.000000</td>\n",
       "      <td>359854.000000</td>\n",
       "    </tr>\n",
       "    <tr>\n",
       "      <th>mean</th>\n",
       "      <td>1.022069e+07</td>\n",
       "      <td>19194.701346</td>\n",
       "      <td>22.567304</td>\n",
       "      <td>423.517722</td>\n",
       "      <td>286.196987</td>\n",
       "      <td>35.336448</td>\n",
       "      <td>15048.269943</td>\n",
       "    </tr>\n",
       "    <tr>\n",
       "      <th>std</th>\n",
       "      <td>1.267400e+05</td>\n",
       "      <td>21014.265474</td>\n",
       "      <td>12.232944</td>\n",
       "      <td>274.455816</td>\n",
       "      <td>157.989831</td>\n",
       "      <td>12.594056</td>\n",
       "      <td>7969.495205</td>\n",
       "    </tr>\n",
       "    <tr>\n",
       "      <th>min</th>\n",
       "      <td>1.000001e+07</td>\n",
       "      <td>1.000000</td>\n",
       "      <td>1.900000</td>\n",
       "      <td>15.600000</td>\n",
       "      <td>19.000000</td>\n",
       "      <td>18.000000</td>\n",
       "      <td>2000.000000</td>\n",
       "    </tr>\n",
       "    <tr>\n",
       "      <th>1%</th>\n",
       "      <td>1.000465e+07</td>\n",
       "      <td>108.000000</td>\n",
       "      <td>2.100000</td>\n",
       "      <td>33.600000</td>\n",
       "      <td>26.373600</td>\n",
       "      <td>18.000000</td>\n",
       "      <td>2233.000000</td>\n",
       "    </tr>\n",
       "    <tr>\n",
       "      <th>10%</th>\n",
       "      <td>1.004566e+07</td>\n",
       "      <td>1080.000000</td>\n",
       "      <td>5.800000</td>\n",
       "      <td>99.250000</td>\n",
       "      <td>72.594000</td>\n",
       "      <td>21.000000</td>\n",
       "      <td>4525.000000</td>\n",
       "    </tr>\n",
       "    <tr>\n",
       "      <th>25%</th>\n",
       "      <td>1.011093e+07</td>\n",
       "      <td>2705.000000</td>\n",
       "      <td>12.000000</td>\n",
       "      <td>206.500000</td>\n",
       "      <td>151.200000</td>\n",
       "      <td>25.000000</td>\n",
       "      <td>8419.000000</td>\n",
       "    </tr>\n",
       "    <tr>\n",
       "      <th>50%</th>\n",
       "      <td>1.022080e+07</td>\n",
       "      <td>7459.000000</td>\n",
       "      <td>22.440000</td>\n",
       "      <td>386.425000</td>\n",
       "      <td>282.480000</td>\n",
       "      <td>33.000000</td>\n",
       "      <td>14684.500000</td>\n",
       "    </tr>\n",
       "    <tr>\n",
       "      <th>75%</th>\n",
       "      <td>1.033082e+07</td>\n",
       "      <td>36087.750000</td>\n",
       "      <td>32.960000</td>\n",
       "      <td>583.740000</td>\n",
       "      <td>413.683200</td>\n",
       "      <td>42.000000</td>\n",
       "      <td>21034.000000</td>\n",
       "    </tr>\n",
       "    <tr>\n",
       "      <th>90%</th>\n",
       "      <td>1.039683e+07</td>\n",
       "      <td>53780.000000</td>\n",
       "      <td>39.200000</td>\n",
       "      <td>793.000000</td>\n",
       "      <td>502.512000</td>\n",
       "      <td>56.000000</td>\n",
       "      <td>24793.000000</td>\n",
       "    </tr>\n",
       "    <tr>\n",
       "      <th>99%</th>\n",
       "      <td>1.043532e+07</td>\n",
       "      <td>59641.000000</td>\n",
       "      <td>45.630000</td>\n",
       "      <td>1230.828200</td>\n",
       "      <td>610.560000</td>\n",
       "      <td>64.000000</td>\n",
       "      <td>33968.000000</td>\n",
       "    </tr>\n",
       "    <tr>\n",
       "      <th>max</th>\n",
       "      <td>1.044011e+07</td>\n",
       "      <td>60000.000000</td>\n",
       "      <td>48.000000</td>\n",
       "      <td>2048.030000</td>\n",
       "      <td>691.200000</td>\n",
       "      <td>65.000000</td>\n",
       "      <td>35000.000000</td>\n",
       "    </tr>\n",
       "  </tbody>\n",
       "</table>\n",
       "</div>"
      ],
      "text/plain": [
       "       Transaction ID    Customer ID   KM Travelled  Price Charged  \\\n",
       "count    3.598540e+05  359854.000000  359854.000000  359854.000000   \n",
       "mean     1.022069e+07   19194.701346      22.567304     423.517722   \n",
       "std      1.267400e+05   21014.265474      12.232944     274.455816   \n",
       "min      1.000001e+07       1.000000       1.900000      15.600000   \n",
       "1%       1.000465e+07     108.000000       2.100000      33.600000   \n",
       "10%      1.004566e+07    1080.000000       5.800000      99.250000   \n",
       "25%      1.011093e+07    2705.000000      12.000000     206.500000   \n",
       "50%      1.022080e+07    7459.000000      22.440000     386.425000   \n",
       "75%      1.033082e+07   36087.750000      32.960000     583.740000   \n",
       "90%      1.039683e+07   53780.000000      39.200000     793.000000   \n",
       "99%      1.043532e+07   59641.000000      45.630000    1230.828200   \n",
       "max      1.044011e+07   60000.000000      48.000000    2048.030000   \n",
       "\n",
       "        Cost of Trip            Age  Income (USD/Month)  \n",
       "count  359854.000000  359854.000000       359854.000000  \n",
       "mean      286.196987      35.336448        15048.269943  \n",
       "std       157.989831      12.594056         7969.495205  \n",
       "min        19.000000      18.000000         2000.000000  \n",
       "1%         26.373600      18.000000         2233.000000  \n",
       "10%        72.594000      21.000000         4525.000000  \n",
       "25%       151.200000      25.000000         8419.000000  \n",
       "50%       282.480000      33.000000        14684.500000  \n",
       "75%       413.683200      42.000000        21034.000000  \n",
       "90%       502.512000      56.000000        24793.000000  \n",
       "99%       610.560000      64.000000        33968.000000  \n",
       "max       691.200000      65.000000        35000.000000  "
      ]
     },
     "execution_count": 56,
     "metadata": {},
     "output_type": "execute_result"
    }
   ],
   "source": [
    "df_final.describe(percentiles = [.01,.1,.25,.50,.75,.90,.99])"
   ]
  },
  {
   "cell_type": "markdown",
   "id": "ce21ac63-4c01-4dbc-a667-0a6b17734acb",
   "metadata": {},
   "source": [
    "## Making a list of continuous columns variable for box plot\n",
    "\n"
   ]
  },
  {
   "cell_type": "code",
   "execution_count": 57,
   "id": "6bfd6bf7-1885-4da8-90a0-833710a9e710",
   "metadata": {},
   "outputs": [
    {
     "data": {
      "text/plain": [
       "['Transaction ID',\n",
       " 'Customer ID',\n",
       " 'KM Travelled',\n",
       " 'Price Charged',\n",
       " 'Cost of Trip',\n",
       " 'Age',\n",
       " 'Income (USD/Month)']"
      ]
     },
     "execution_count": 57,
     "metadata": {},
     "output_type": "execute_result"
    }
   ],
   "source": [
    "num_col = list(df_final.select_dtypes(include = ['int64' , 'float64']).columns)\n",
    "num_col"
   ]
  },
  {
   "cell_type": "code",
   "execution_count": 58,
   "id": "a1ae7777-dc01-4565-84dc-674f54f68bdc",
   "metadata": {},
   "outputs": [
    {
     "data": {
      "image/png": "[encoded data removed]",
      "text/plain": [
       "<Figure size 432x288 with 1 Axes>"
      ]
     },
     "metadata": {
      "needs_background": "light"
     },
     "output_type": "display_data"
    },
    {
     "data": {
      "image/png": "[encoded data removed]",
      "text/plain": [
       "<Figure size 432x288 with 1 Axes>"
      ]
     },
     "metadata": {
      "needs_background": "light"
     },
     "output_type": "display_data"
    },
    {
     "data": {
      "image/png": "[encoded data removed]",
      "text/plain": [
       "<Figure size 432x288 with 1 Axes>"
      ]
     },
     "metadata": {
      "needs_background": "light"
     },
     "output_type": "display_data"
    },
    {
     "data": {
      "image/png": "[encoded data removed]",
      "text/plain": [
       "<Figure size 432x288 with 1 Axes>"
      ]
     },
     "metadata": {
      "needs_background": "light"
     },
     "output_type": "display_data"
    },
    {
     "data": {
      "image/png": "[encoded data removed]",
      "text/plain": [
       "<Figure size 432x288 with 1 Axes>"
      ]
     },
     "metadata": {
      "needs_background": "light"
     },
     "output_type": "display_data"
    },
    {
     "data": {
      "image/png": "[encoded data removed]",
      "text/plain": [
       "<Figure size 432x288 with 1 Axes>"
      ]
     },
     "metadata": {
      "needs_background": "light"
     },
     "output_type": "display_data"
    },
    {
     "data": {
      "image/png": "[encoded data removed]",
      "text/plain": [
       "<Figure size 432x288 with 1 Axes>"
      ]
     },
     "metadata": {
      "needs_background": "light"
     },
     "output_type": "display_data"
    }
   ],
   "source": [
    "for column in num_col:\n",
    "    df_final[column].plot(kind='box')\n",
    "    plt.title(f'box plot of {column}')\n",
    "    plt.show()"
   ]
  },
  {
   "cell_type": "markdown",
   "id": "fa1973d4-2ceb-406a-aec9-62e39fdd2416",
   "metadata": {},
   "source": [
    "# Analysis"
   ]
  },
  {
   "cell_type": "code",
   "execution_count": 59,
   "id": "2112d1f3-606c-46c5-9171-9855168164db",
   "metadata": {},
   "outputs": [
    {
     "data": {
      "text/html": [
       "<div>\n",
       "<style scoped>\n",
       "    .dataframe tbody tr th:only-of-type {\n",
       "        vertical-align: middle;\n",
       "    }\n",
       "\n",
       "    .dataframe tbody tr th {\n",
       "        vertical-align: top;\n",
       "    }\n",
       "\n",
       "    .dataframe thead th {\n",
       "        text-align: right;\n",
       "    }\n",
       "</style>\n",
       "<table border=\"1\" class=\"dataframe\">\n",
       "  <thead>\n",
       "    <tr style=\"text-align: right;\">\n",
       "      <th></th>\n",
       "      <th>Transaction ID</th>\n",
       "      <th>Customer ID</th>\n",
       "      <th>Payment_Mode</th>\n",
       "      <th>Date of Travel</th>\n",
       "      <th>Company</th>\n",
       "      <th>City</th>\n",
       "      <th>KM Travelled</th>\n",
       "      <th>Price Charged</th>\n",
       "      <th>Cost of Trip</th>\n",
       "      <th>Gender</th>\n",
       "      <th>Age</th>\n",
       "      <th>Income (USD/Month)</th>\n",
       "      <th>Population</th>\n",
       "      <th>Users</th>\n",
       "      <th>Date</th>\n",
       "      <th>Holiday</th>\n",
       "    </tr>\n",
       "  </thead>\n",
       "  <tbody>\n",
       "    <tr>\n",
       "      <th>0</th>\n",
       "      <td>10000011</td>\n",
       "      <td>29290</td>\n",
       "      <td>Card</td>\n",
       "      <td>2016-01-08</td>\n",
       "      <td>Pink Cab</td>\n",
       "      <td>ATLANTA GA</td>\n",
       "      <td>30.45</td>\n",
       "      <td>370.95</td>\n",
       "      <td>313.635</td>\n",
       "      <td>Male</td>\n",
       "      <td>28</td>\n",
       "      <td>10813</td>\n",
       "      <td>814,885</td>\n",
       "      <td>24,701</td>\n",
       "      <td>2023-10-15 09:14:56.556659</td>\n",
       "      <td>No</td>\n",
       "    </tr>\n",
       "    <tr>\n",
       "      <th>1</th>\n",
       "      <td>10000012</td>\n",
       "      <td>27703</td>\n",
       "      <td>Card</td>\n",
       "      <td>2016-01-06</td>\n",
       "      <td>Pink Cab</td>\n",
       "      <td>ATLANTA GA</td>\n",
       "      <td>28.62</td>\n",
       "      <td>358.52</td>\n",
       "      <td>334.854</td>\n",
       "      <td>Male</td>\n",
       "      <td>27</td>\n",
       "      <td>9237</td>\n",
       "      <td>814,885</td>\n",
       "      <td>24,701</td>\n",
       "      <td>2023-10-15 09:14:56.556659</td>\n",
       "      <td>No</td>\n",
       "    </tr>\n",
       "    <tr>\n",
       "      <th>2</th>\n",
       "      <td>10000013</td>\n",
       "      <td>28712</td>\n",
       "      <td>Cash</td>\n",
       "      <td>2016-01-02</td>\n",
       "      <td>Pink Cab</td>\n",
       "      <td>ATLANTA GA</td>\n",
       "      <td>9.04</td>\n",
       "      <td>125.20</td>\n",
       "      <td>97.632</td>\n",
       "      <td>Male</td>\n",
       "      <td>53</td>\n",
       "      <td>11242</td>\n",
       "      <td>814,885</td>\n",
       "      <td>24,701</td>\n",
       "      <td>2023-10-15 09:14:56.556659</td>\n",
       "      <td>No</td>\n",
       "    </tr>\n",
       "    <tr>\n",
       "      <th>3</th>\n",
       "      <td>10000014</td>\n",
       "      <td>28020</td>\n",
       "      <td>Cash</td>\n",
       "      <td>2016-01-07</td>\n",
       "      <td>Pink Cab</td>\n",
       "      <td>ATLANTA GA</td>\n",
       "      <td>33.17</td>\n",
       "      <td>377.40</td>\n",
       "      <td>351.602</td>\n",
       "      <td>Male</td>\n",
       "      <td>23</td>\n",
       "      <td>23327</td>\n",
       "      <td>814,885</td>\n",
       "      <td>24,701</td>\n",
       "      <td>2023-10-15 09:14:56.556659</td>\n",
       "      <td>No</td>\n",
       "    </tr>\n",
       "    <tr>\n",
       "      <th>4</th>\n",
       "      <td>10000015</td>\n",
       "      <td>27182</td>\n",
       "      <td>Card</td>\n",
       "      <td>2016-01-03</td>\n",
       "      <td>Pink Cab</td>\n",
       "      <td>ATLANTA GA</td>\n",
       "      <td>8.73</td>\n",
       "      <td>114.62</td>\n",
       "      <td>97.776</td>\n",
       "      <td>Male</td>\n",
       "      <td>33</td>\n",
       "      <td>8536</td>\n",
       "      <td>814,885</td>\n",
       "      <td>24,701</td>\n",
       "      <td>2023-10-15 09:14:56.556659</td>\n",
       "      <td>No</td>\n",
       "    </tr>\n",
       "  </tbody>\n",
       "</table>\n",
       "</div>"
      ],
      "text/plain": [
       "   Transaction ID  Customer ID Payment_Mode Date of Travel   Company  \\\n",
       "0        10000011        29290         Card     2016-01-08  Pink Cab   \n",
       "1        10000012        27703         Card     2016-01-06  Pink Cab   \n",
       "2        10000013        28712         Cash     2016-01-02  Pink Cab   \n",
       "3        10000014        28020         Cash     2016-01-07  Pink Cab   \n",
       "4        10000015        27182         Card     2016-01-03  Pink Cab   \n",
       "\n",
       "         City  KM Travelled  Price Charged  Cost of Trip Gender  Age  \\\n",
       "0  ATLANTA GA         30.45         370.95       313.635   Male   28   \n",
       "1  ATLANTA GA         28.62         358.52       334.854   Male   27   \n",
       "2  ATLANTA GA          9.04         125.20        97.632   Male   53   \n",
       "3  ATLANTA GA         33.17         377.40       351.602   Male   23   \n",
       "4  ATLANTA GA          8.73         114.62        97.776   Male   33   \n",
       "\n",
       "   Income (USD/Month) Population   Users                       Date Holiday  \n",
       "0               10813    814,885  24,701 2023-10-15 09:14:56.556659      No  \n",
       "1                9237    814,885  24,701 2023-10-15 09:14:56.556659      No  \n",
       "2               11242    814,885  24,701 2023-10-15 09:14:56.556659      No  \n",
       "3               23327    814,885  24,701 2023-10-15 09:14:56.556659      No  \n",
       "4                8536    814,885  24,701 2023-10-15 09:14:56.556659      No  "
      ]
     },
     "execution_count": 59,
     "metadata": {},
     "output_type": "execute_result"
    }
   ],
   "source": [
    "df_final.head()"
   ]
  },
  {
   "cell_type": "markdown",
   "id": "c9168644-48a3-4251-9241-e8e78924e6d3",
   "metadata": {},
   "source": [
    "### Dropping Date column"
   ]
  },
  {
   "cell_type": "code",
   "execution_count": 60,
   "id": "6d2eee43-e71b-4601-9162-28ab2ee65968",
   "metadata": {},
   "outputs": [],
   "source": [
    "df_final = df_final.drop('Date', axis=1)"
   ]
  },
  {
   "cell_type": "code",
   "execution_count": 61,
   "id": "3b0f6d39-b07a-4e2e-964f-c9991e1ea423",
   "metadata": {},
   "outputs": [
    {
     "data": {
      "text/html": [
       "<div>\n",
       "<style scoped>\n",
       "    .dataframe tbody tr th:only-of-type {\n",
       "        vertical-align: middle;\n",
       "    }\n",
       "\n",
       "    .dataframe tbody tr th {\n",
       "        vertical-align: top;\n",
       "    }\n",
       "\n",
       "    .dataframe thead th {\n",
       "        text-align: right;\n",
       "    }\n",
       "</style>\n",
       "<table border=\"1\" class=\"dataframe\">\n",
       "  <thead>\n",
       "    <tr style=\"text-align: right;\">\n",
       "      <th></th>\n",
       "      <th>Transaction ID</th>\n",
       "      <th>Customer ID</th>\n",
       "      <th>Payment_Mode</th>\n",
       "      <th>Date of Travel</th>\n",
       "      <th>Company</th>\n",
       "      <th>City</th>\n",
       "      <th>KM Travelled</th>\n",
       "      <th>Price Charged</th>\n",
       "      <th>Cost of Trip</th>\n",
       "      <th>Gender</th>\n",
       "      <th>Age</th>\n",
       "      <th>Income (USD/Month)</th>\n",
       "      <th>Population</th>\n",
       "      <th>Users</th>\n",
       "      <th>Holiday</th>\n",
       "    </tr>\n",
       "  </thead>\n",
       "  <tbody>\n",
       "    <tr>\n",
       "      <th>0</th>\n",
       "      <td>10000011</td>\n",
       "      <td>29290</td>\n",
       "      <td>Card</td>\n",
       "      <td>2016-01-08</td>\n",
       "      <td>Pink Cab</td>\n",
       "      <td>ATLANTA GA</td>\n",
       "      <td>30.45</td>\n",
       "      <td>370.95</td>\n",
       "      <td>313.635</td>\n",
       "      <td>Male</td>\n",
       "      <td>28</td>\n",
       "      <td>10813</td>\n",
       "      <td>814,885</td>\n",
       "      <td>24,701</td>\n",
       "      <td>No</td>\n",
       "    </tr>\n",
       "    <tr>\n",
       "      <th>1</th>\n",
       "      <td>10000012</td>\n",
       "      <td>27703</td>\n",
       "      <td>Card</td>\n",
       "      <td>2016-01-06</td>\n",
       "      <td>Pink Cab</td>\n",
       "      <td>ATLANTA GA</td>\n",
       "      <td>28.62</td>\n",
       "      <td>358.52</td>\n",
       "      <td>334.854</td>\n",
       "      <td>Male</td>\n",
       "      <td>27</td>\n",
       "      <td>9237</td>\n",
       "      <td>814,885</td>\n",
       "      <td>24,701</td>\n",
       "      <td>No</td>\n",
       "    </tr>\n",
       "    <tr>\n",
       "      <th>2</th>\n",
       "      <td>10000013</td>\n",
       "      <td>28712</td>\n",
       "      <td>Cash</td>\n",
       "      <td>2016-01-02</td>\n",
       "      <td>Pink Cab</td>\n",
       "      <td>ATLANTA GA</td>\n",
       "      <td>9.04</td>\n",
       "      <td>125.20</td>\n",
       "      <td>97.632</td>\n",
       "      <td>Male</td>\n",
       "      <td>53</td>\n",
       "      <td>11242</td>\n",
       "      <td>814,885</td>\n",
       "      <td>24,701</td>\n",
       "      <td>No</td>\n",
       "    </tr>\n",
       "    <tr>\n",
       "      <th>3</th>\n",
       "      <td>10000014</td>\n",
       "      <td>28020</td>\n",
       "      <td>Cash</td>\n",
       "      <td>2016-01-07</td>\n",
       "      <td>Pink Cab</td>\n",
       "      <td>ATLANTA GA</td>\n",
       "      <td>33.17</td>\n",
       "      <td>377.40</td>\n",
       "      <td>351.602</td>\n",
       "      <td>Male</td>\n",
       "      <td>23</td>\n",
       "      <td>23327</td>\n",
       "      <td>814,885</td>\n",
       "      <td>24,701</td>\n",
       "      <td>No</td>\n",
       "    </tr>\n",
       "    <tr>\n",
       "      <th>4</th>\n",
       "      <td>10000015</td>\n",
       "      <td>27182</td>\n",
       "      <td>Card</td>\n",
       "      <td>2016-01-03</td>\n",
       "      <td>Pink Cab</td>\n",
       "      <td>ATLANTA GA</td>\n",
       "      <td>8.73</td>\n",
       "      <td>114.62</td>\n",
       "      <td>97.776</td>\n",
       "      <td>Male</td>\n",
       "      <td>33</td>\n",
       "      <td>8536</td>\n",
       "      <td>814,885</td>\n",
       "      <td>24,701</td>\n",
       "      <td>No</td>\n",
       "    </tr>\n",
       "  </tbody>\n",
       "</table>\n",
       "</div>"
      ],
      "text/plain": [
       "   Transaction ID  Customer ID Payment_Mode Date of Travel   Company  \\\n",
       "0        10000011        29290         Card     2016-01-08  Pink Cab   \n",
       "1        10000012        27703         Card     2016-01-06  Pink Cab   \n",
       "2        10000013        28712         Cash     2016-01-02  Pink Cab   \n",
       "3        10000014        28020         Cash     2016-01-07  Pink Cab   \n",
       "4        10000015        27182         Card     2016-01-03  Pink Cab   \n",
       "\n",
       "         City  KM Travelled  Price Charged  Cost of Trip Gender  Age  \\\n",
       "0  ATLANTA GA         30.45         370.95       313.635   Male   28   \n",
       "1  ATLANTA GA         28.62         358.52       334.854   Male   27   \n",
       "2  ATLANTA GA          9.04         125.20        97.632   Male   53   \n",
       "3  ATLANTA GA         33.17         377.40       351.602   Male   23   \n",
       "4  ATLANTA GA          8.73         114.62        97.776   Male   33   \n",
       "\n",
       "   Income (USD/Month) Population   Users Holiday  \n",
       "0               10813    814,885  24,701      No  \n",
       "1                9237    814,885  24,701      No  \n",
       "2               11242    814,885  24,701      No  \n",
       "3               23327    814,885  24,701      No  \n",
       "4                8536    814,885  24,701      No  "
      ]
     },
     "execution_count": 61,
     "metadata": {},
     "output_type": "execute_result"
    }
   ],
   "source": [
    "df_final.head()"
   ]
  },
  {
   "cell_type": "code",
   "execution_count": 60,
   "id": "92d21171-5a1f-4f7b-85e0-cc9f6dc955b6",
   "metadata": {},
   "outputs": [],
   "source": [
    "##df_final.to_csv(r\"C:\\Users\\tanvi\\Documents\", index=False)"
   ]
  },
  {
   "cell_type": "code",
   "execution_count": 61,
   "id": "7e5f7db8-1209-4e5f-b270-166c4d7ef424",
   "metadata": {},
   "outputs": [],
   "source": [
    "#Areas to investigate\n",
    "\n",
    "#Which company has maximum cab users at a particular time period?\n",
    "#Does margin proportionally increase with increase in number of customers?\n",
    "#What are the attributes of these customer segments?\n",
    "\n",
    "#holidays vs travel frequency\n",
    "\n",
    "#profit forecasting\n"
   ]
  },
  {
   "cell_type": "code",
   "execution_count": 62,
   "id": "f72c1d4e-8158-4060-baec-6cdb23628455",
   "metadata": {},
   "outputs": [],
   "source": [
    "## Create a new feature -- profit\n",
    "\n",
    "df_final['Profit'] = df_final['Price Charged'] - df_final['Cost of Trip']"
   ]
  },
  {
   "cell_type": "code",
   "execution_count": 63,
   "id": "e706254e-9362-4bc3-a13f-4fa5a41d09c7",
   "metadata": {},
   "outputs": [],
   "source": [
    "## Create Year and Month feature\n",
    "\n",
    "df_final['Year'] = df_final['Date of Travel'].dt.year\n",
    "df_final['Month'] = df_final['Date of Travel'].dt.month"
   ]
  },
  {
   "cell_type": "code",
   "execution_count": 64,
   "id": "45e3a576-92b0-481a-bff7-443b01a835e9",
   "metadata": {},
   "outputs": [
    {
     "data": {
      "text/html": [
       "<div>\n",
       "<style scoped>\n",
       "    .dataframe tbody tr th:only-of-type {\n",
       "        vertical-align: middle;\n",
       "    }\n",
       "\n",
       "    .dataframe tbody tr th {\n",
       "        vertical-align: top;\n",
       "    }\n",
       "\n",
       "    .dataframe thead th {\n",
       "        text-align: right;\n",
       "    }\n",
       "</style>\n",
       "<table border=\"1\" class=\"dataframe\">\n",
       "  <thead>\n",
       "    <tr style=\"text-align: right;\">\n",
       "      <th></th>\n",
       "      <th>Transaction ID</th>\n",
       "      <th>Customer ID</th>\n",
       "      <th>Payment_Mode</th>\n",
       "      <th>Date of Travel</th>\n",
       "      <th>Company</th>\n",
       "      <th>City</th>\n",
       "      <th>KM Travelled</th>\n",
       "      <th>Price Charged</th>\n",
       "      <th>Cost of Trip</th>\n",
       "      <th>Gender</th>\n",
       "      <th>Age</th>\n",
       "      <th>Income (USD/Month)</th>\n",
       "      <th>Population</th>\n",
       "      <th>Users</th>\n",
       "      <th>Holiday</th>\n",
       "      <th>Profit</th>\n",
       "      <th>Year</th>\n",
       "      <th>Month</th>\n",
       "    </tr>\n",
       "  </thead>\n",
       "  <tbody>\n",
       "    <tr>\n",
       "      <th>0</th>\n",
       "      <td>10000011</td>\n",
       "      <td>29290</td>\n",
       "      <td>Card</td>\n",
       "      <td>2016-01-08</td>\n",
       "      <td>Pink Cab</td>\n",
       "      <td>ATLANTA GA</td>\n",
       "      <td>30.45</td>\n",
       "      <td>370.95</td>\n",
       "      <td>313.635</td>\n",
       "      <td>Male</td>\n",
       "      <td>28</td>\n",
       "      <td>10813</td>\n",
       "      <td>814,885</td>\n",
       "      <td>24,701</td>\n",
       "      <td>No</td>\n",
       "      <td>57.315</td>\n",
       "      <td>2016</td>\n",
       "      <td>1</td>\n",
       "    </tr>\n",
       "    <tr>\n",
       "      <th>1</th>\n",
       "      <td>10000012</td>\n",
       "      <td>27703</td>\n",
       "      <td>Card</td>\n",
       "      <td>2016-01-06</td>\n",
       "      <td>Pink Cab</td>\n",
       "      <td>ATLANTA GA</td>\n",
       "      <td>28.62</td>\n",
       "      <td>358.52</td>\n",
       "      <td>334.854</td>\n",
       "      <td>Male</td>\n",
       "      <td>27</td>\n",
       "      <td>9237</td>\n",
       "      <td>814,885</td>\n",
       "      <td>24,701</td>\n",
       "      <td>No</td>\n",
       "      <td>23.666</td>\n",
       "      <td>2016</td>\n",
       "      <td>1</td>\n",
       "    </tr>\n",
       "    <tr>\n",
       "      <th>2</th>\n",
       "      <td>10000013</td>\n",
       "      <td>28712</td>\n",
       "      <td>Cash</td>\n",
       "      <td>2016-01-02</td>\n",
       "      <td>Pink Cab</td>\n",
       "      <td>ATLANTA GA</td>\n",
       "      <td>9.04</td>\n",
       "      <td>125.20</td>\n",
       "      <td>97.632</td>\n",
       "      <td>Male</td>\n",
       "      <td>53</td>\n",
       "      <td>11242</td>\n",
       "      <td>814,885</td>\n",
       "      <td>24,701</td>\n",
       "      <td>No</td>\n",
       "      <td>27.568</td>\n",
       "      <td>2016</td>\n",
       "      <td>1</td>\n",
       "    </tr>\n",
       "    <tr>\n",
       "      <th>3</th>\n",
       "      <td>10000014</td>\n",
       "      <td>28020</td>\n",
       "      <td>Cash</td>\n",
       "      <td>2016-01-07</td>\n",
       "      <td>Pink Cab</td>\n",
       "      <td>ATLANTA GA</td>\n",
       "      <td>33.17</td>\n",
       "      <td>377.40</td>\n",
       "      <td>351.602</td>\n",
       "      <td>Male</td>\n",
       "      <td>23</td>\n",
       "      <td>23327</td>\n",
       "      <td>814,885</td>\n",
       "      <td>24,701</td>\n",
       "      <td>No</td>\n",
       "      <td>25.798</td>\n",
       "      <td>2016</td>\n",
       "      <td>1</td>\n",
       "    </tr>\n",
       "    <tr>\n",
       "      <th>4</th>\n",
       "      <td>10000015</td>\n",
       "      <td>27182</td>\n",
       "      <td>Card</td>\n",
       "      <td>2016-01-03</td>\n",
       "      <td>Pink Cab</td>\n",
       "      <td>ATLANTA GA</td>\n",
       "      <td>8.73</td>\n",
       "      <td>114.62</td>\n",
       "      <td>97.776</td>\n",
       "      <td>Male</td>\n",
       "      <td>33</td>\n",
       "      <td>8536</td>\n",
       "      <td>814,885</td>\n",
       "      <td>24,701</td>\n",
       "      <td>No</td>\n",
       "      <td>16.844</td>\n",
       "      <td>2016</td>\n",
       "      <td>1</td>\n",
       "    </tr>\n",
       "  </tbody>\n",
       "</table>\n",
       "</div>"
      ],
      "text/plain": [
       "   Transaction ID  Customer ID Payment_Mode Date of Travel   Company  \\\n",
       "0        10000011        29290         Card     2016-01-08  Pink Cab   \n",
       "1        10000012        27703         Card     2016-01-06  Pink Cab   \n",
       "2        10000013        28712         Cash     2016-01-02  Pink Cab   \n",
       "3        10000014        28020         Cash     2016-01-07  Pink Cab   \n",
       "4        10000015        27182         Card     2016-01-03  Pink Cab   \n",
       "\n",
       "         City  KM Travelled  Price Charged  Cost of Trip Gender  Age  \\\n",
       "0  ATLANTA GA         30.45         370.95       313.635   Male   28   \n",
       "1  ATLANTA GA         28.62         358.52       334.854   Male   27   \n",
       "2  ATLANTA GA          9.04         125.20        97.632   Male   53   \n",
       "3  ATLANTA GA         33.17         377.40       351.602   Male   23   \n",
       "4  ATLANTA GA          8.73         114.62        97.776   Male   33   \n",
       "\n",
       "   Income (USD/Month) Population   Users Holiday  Profit  Year  Month  \n",
       "0               10813    814,885  24,701      No  57.315  2016      1  \n",
       "1                9237    814,885  24,701      No  23.666  2016      1  \n",
       "2               11242    814,885  24,701      No  27.568  2016      1  \n",
       "3               23327    814,885  24,701      No  25.798  2016      1  \n",
       "4                8536    814,885  24,701      No  16.844  2016      1  "
      ]
     },
     "execution_count": 64,
     "metadata": {},
     "output_type": "execute_result"
    }
   ],
   "source": [
    "df_final.head()"
   ]
  },
  {
   "cell_type": "code",
   "execution_count": 113,
   "id": "300dc8d7-9ccf-4eb7-8eb3-927e31c41b13",
   "metadata": {},
   "outputs": [],
   "source": [
    "grouped_data = df_final.groupby(['Company', 'Year','Month']).agg({\n",
    "    \"Transaction ID\": pd.Series.count,\n",
    "    \"Customer ID\": pd.Series.nunique,\n",
    "    \"Price Charged\": sum,\n",
    "    \"Cost of Trip\": sum,\n",
    "    \"Profit\": sum,\n",
    "})\n",
    "\n",
    "grouped_data.reset_index(inplace=True)"
   ]
  },
  {
   "cell_type": "code",
   "execution_count": 114,
   "id": "4485a546-13a3-462e-b067-99f50bd00743",
   "metadata": {},
   "outputs": [],
   "source": [
    "grouped_data = grouped_data.rename(columns={\n",
    "    \"Transaction ID\": \"Total Transactions\",\n",
    "    \"Customer ID\": \"Total Customers\",\n",
    "    \"Price Charged\": \"Total Revenue\",\n",
    "    \"Cost of Trip\": \"Total Cost\",\n",
    "    \"Profit\": \"Total Profit\"\n",
    "})"
   ]
  },
  {
   "cell_type": "code",
   "execution_count": 115,
   "id": "992ce3b4-e003-4984-a14f-6cb4a309604b",
   "metadata": {},
   "outputs": [
    {
     "data": {
      "text/html": [
       "<div>\n",
       "<style scoped>\n",
       "    .dataframe tbody tr th:only-of-type {\n",
       "        vertical-align: middle;\n",
       "    }\n",
       "\n",
       "    .dataframe tbody tr th {\n",
       "        vertical-align: top;\n",
       "    }\n",
       "\n",
       "    .dataframe thead th {\n",
       "        text-align: right;\n",
       "    }\n",
       "</style>\n",
       "<table border=\"1\" class=\"dataframe\">\n",
       "  <thead>\n",
       "    <tr style=\"text-align: right;\">\n",
       "      <th></th>\n",
       "      <th>Company</th>\n",
       "      <th>Year</th>\n",
       "      <th>Month</th>\n",
       "      <th>Total Transactions</th>\n",
       "      <th>Total Customers</th>\n",
       "      <th>Total Revenue</th>\n",
       "      <th>Total Cost</th>\n",
       "      <th>Total Profit</th>\n",
       "    </tr>\n",
       "  </thead>\n",
       "  <tbody>\n",
       "    <tr>\n",
       "      <th>0</th>\n",
       "      <td>Pink Cab</td>\n",
       "      <td>2016</td>\n",
       "      <td>1</td>\n",
       "      <td>927</td>\n",
       "      <td>910</td>\n",
       "      <td>305236.77</td>\n",
       "      <td>2.312839e+05</td>\n",
       "      <td>7.395286e+04</td>\n",
       "    </tr>\n",
       "    <tr>\n",
       "      <th>1</th>\n",
       "      <td>Pink Cab</td>\n",
       "      <td>2016</td>\n",
       "      <td>2</td>\n",
       "      <td>1050</td>\n",
       "      <td>1034</td>\n",
       "      <td>344521.86</td>\n",
       "      <td>2.570463e+05</td>\n",
       "      <td>8.747554e+04</td>\n",
       "    </tr>\n",
       "    <tr>\n",
       "      <th>2</th>\n",
       "      <td>Pink Cab</td>\n",
       "      <td>2016</td>\n",
       "      <td>3</td>\n",
       "      <td>1231</td>\n",
       "      <td>1200</td>\n",
       "      <td>394890.37</td>\n",
       "      <td>3.070892e+05</td>\n",
       "      <td>8.780118e+04</td>\n",
       "    </tr>\n",
       "    <tr>\n",
       "      <th>3</th>\n",
       "      <td>Pink Cab</td>\n",
       "      <td>2016</td>\n",
       "      <td>4</td>\n",
       "      <td>1240</td>\n",
       "      <td>1210</td>\n",
       "      <td>383077.51</td>\n",
       "      <td>3.004857e+05</td>\n",
       "      <td>8.259185e+04</td>\n",
       "    </tr>\n",
       "    <tr>\n",
       "      <th>4</th>\n",
       "      <td>Pink Cab</td>\n",
       "      <td>2016</td>\n",
       "      <td>5</td>\n",
       "      <td>1567</td>\n",
       "      <td>1512</td>\n",
       "      <td>447231.76</td>\n",
       "      <td>3.856808e+05</td>\n",
       "      <td>6.155096e+04</td>\n",
       "    </tr>\n",
       "    <tr>\n",
       "      <th>...</th>\n",
       "      <td>...</td>\n",
       "      <td>...</td>\n",
       "      <td>...</td>\n",
       "      <td>...</td>\n",
       "      <td>...</td>\n",
       "      <td>...</td>\n",
       "      <td>...</td>\n",
       "      <td>...</td>\n",
       "    </tr>\n",
       "    <tr>\n",
       "      <th>67</th>\n",
       "      <td>Yellow Cab</td>\n",
       "      <td>2018</td>\n",
       "      <td>8</td>\n",
       "      <td>8227</td>\n",
       "      <td>6671</td>\n",
       "      <td>3334231.44</td>\n",
       "      <td>2.447233e+06</td>\n",
       "      <td>8.869987e+05</td>\n",
       "    </tr>\n",
       "    <tr>\n",
       "      <th>68</th>\n",
       "      <td>Yellow Cab</td>\n",
       "      <td>2018</td>\n",
       "      <td>9</td>\n",
       "      <td>9149</td>\n",
       "      <td>7233</td>\n",
       "      <td>3908741.93</td>\n",
       "      <td>2.689938e+06</td>\n",
       "      <td>1.218804e+06</td>\n",
       "    </tr>\n",
       "    <tr>\n",
       "      <th>69</th>\n",
       "      <td>Yellow Cab</td>\n",
       "      <td>2018</td>\n",
       "      <td>10</td>\n",
       "      <td>9727</td>\n",
       "      <td>7549</td>\n",
       "      <td>4166490.17</td>\n",
       "      <td>2.892734e+06</td>\n",
       "      <td>1.273756e+06</td>\n",
       "    </tr>\n",
       "    <tr>\n",
       "      <th>70</th>\n",
       "      <td>Yellow Cab</td>\n",
       "      <td>2018</td>\n",
       "      <td>11</td>\n",
       "      <td>11230</td>\n",
       "      <td>8371</td>\n",
       "      <td>4755546.08</td>\n",
       "      <td>3.338613e+06</td>\n",
       "      <td>1.416933e+06</td>\n",
       "    </tr>\n",
       "    <tr>\n",
       "      <th>71</th>\n",
       "      <td>Yellow Cab</td>\n",
       "      <td>2018</td>\n",
       "      <td>12</td>\n",
       "      <td>11766</td>\n",
       "      <td>8618</td>\n",
       "      <td>5065190.80</td>\n",
       "      <td>3.498304e+06</td>\n",
       "      <td>1.566886e+06</td>\n",
       "    </tr>\n",
       "  </tbody>\n",
       "</table>\n",
       "<p>72 rows × 8 columns</p>\n",
       "</div>"
      ],
      "text/plain": [
       "       Company  Year  Month  Total Transactions  Total Customers  \\\n",
       "0     Pink Cab  2016      1                 927              910   \n",
       "1     Pink Cab  2016      2                1050             1034   \n",
       "2     Pink Cab  2016      3                1231             1200   \n",
       "3     Pink Cab  2016      4                1240             1210   \n",
       "4     Pink Cab  2016      5                1567             1512   \n",
       "..         ...   ...    ...                 ...              ...   \n",
       "67  Yellow Cab  2018      8                8227             6671   \n",
       "68  Yellow Cab  2018      9                9149             7233   \n",
       "69  Yellow Cab  2018     10                9727             7549   \n",
       "70  Yellow Cab  2018     11               11230             8371   \n",
       "71  Yellow Cab  2018     12               11766             8618   \n",
       "\n",
       "    Total Revenue    Total Cost  Total Profit  \n",
       "0       305236.77  2.312839e+05  7.395286e+04  \n",
       "1       344521.86  2.570463e+05  8.747554e+04  \n",
       "2       394890.37  3.070892e+05  8.780118e+04  \n",
       "3       383077.51  3.004857e+05  8.259185e+04  \n",
       "4       447231.76  3.856808e+05  6.155096e+04  \n",
       "..            ...           ...           ...  \n",
       "67     3334231.44  2.447233e+06  8.869987e+05  \n",
       "68     3908741.93  2.689938e+06  1.218804e+06  \n",
       "69     4166490.17  2.892734e+06  1.273756e+06  \n",
       "70     4755546.08  3.338613e+06  1.416933e+06  \n",
       "71     5065190.80  3.498304e+06  1.566886e+06  \n",
       "\n",
       "[72 rows x 8 columns]"
      ]
     },
     "execution_count": 115,
     "metadata": {},
     "output_type": "execute_result"
    }
   ],
   "source": [
    "grouped_data"
   ]
  },
  {
   "cell_type": "code",
   "execution_count": 124,
   "id": "de7f2040-62b0-4d97-9c94-f1a14609dc75",
   "metadata": {},
   "outputs": [],
   "source": [
    "grouped_data_city = df_final.groupby(['Company', 'Year', 'Month', 'City']).agg({\n",
    "    \"Transaction ID\": pd.Series.count,\n",
    "    \"Customer ID\": pd.Series.nunique,\n",
    "    \"Price Charged\": sum,\n",
    "    \"Cost of Trip\": sum,\n",
    "    \"Profit\": sum,\n",
    "})\n",
    "grouped_data_city.reset_index(inplace=True)"
   ]
  },
  {
   "cell_type": "code",
   "execution_count": 125,
   "id": "6fb06aa9-5f47-4112-b9a3-b03642c5f624",
   "metadata": {},
   "outputs": [],
   "source": [
    "grouped_data_city = grouped_data_city.rename(columns={\n",
    "    \"Transaction ID\": \"Total Transactions\",\n",
    "    \"Customer ID\": \"Total Customers\",\n",
    "    \"Price Charged\": \"Total Revenue\",\n",
    "    \"Cost of Trip\": \"Total Cost\",\n",
    "    \"Profit\": \"Total Profit\"\n",
    "})"
   ]
  },
  {
   "cell_type": "code",
   "execution_count": 126,
   "id": "b0be6369-9df5-44f8-984a-a19eabe2dd2e",
   "metadata": {},
   "outputs": [
    {
     "data": {
      "text/html": [
       "<div>\n",
       "<style scoped>\n",
       "    .dataframe tbody tr th:only-of-type {\n",
       "        vertical-align: middle;\n",
       "    }\n",
       "\n",
       "    .dataframe tbody tr th {\n",
       "        vertical-align: top;\n",
       "    }\n",
       "\n",
       "    .dataframe thead th {\n",
       "        text-align: right;\n",
       "    }\n",
       "</style>\n",
       "<table border=\"1\" class=\"dataframe\">\n",
       "  <thead>\n",
       "    <tr style=\"text-align: right;\">\n",
       "      <th></th>\n",
       "      <th>Company</th>\n",
       "      <th>Year</th>\n",
       "      <th>Month</th>\n",
       "      <th>City</th>\n",
       "      <th>Total Transactions</th>\n",
       "      <th>Total Customers</th>\n",
       "      <th>Total Revenue</th>\n",
       "      <th>Total Cost</th>\n",
       "      <th>Total Profit</th>\n",
       "    </tr>\n",
       "  </thead>\n",
       "  <tbody>\n",
       "    <tr>\n",
       "      <th>0</th>\n",
       "      <td>Pink Cab</td>\n",
       "      <td>2016</td>\n",
       "      <td>1</td>\n",
       "      <td>ATLANTA GA</td>\n",
       "      <td>21</td>\n",
       "      <td>21</td>\n",
       "      <td>6626.24</td>\n",
       "      <td>5365.1190</td>\n",
       "      <td>1261.1210</td>\n",
       "    </tr>\n",
       "    <tr>\n",
       "      <th>1</th>\n",
       "      <td>Pink Cab</td>\n",
       "      <td>2016</td>\n",
       "      <td>1</td>\n",
       "      <td>AUSTIN TX</td>\n",
       "      <td>7</td>\n",
       "      <td>7</td>\n",
       "      <td>2076.89</td>\n",
       "      <td>1667.5040</td>\n",
       "      <td>409.3860</td>\n",
       "    </tr>\n",
       "    <tr>\n",
       "      <th>2</th>\n",
       "      <td>Pink Cab</td>\n",
       "      <td>2016</td>\n",
       "      <td>1</td>\n",
       "      <td>BOSTON MA</td>\n",
       "      <td>72</td>\n",
       "      <td>72</td>\n",
       "      <td>19773.59</td>\n",
       "      <td>16992.7830</td>\n",
       "      <td>2780.8070</td>\n",
       "    </tr>\n",
       "    <tr>\n",
       "      <th>3</th>\n",
       "      <td>Pink Cab</td>\n",
       "      <td>2016</td>\n",
       "      <td>1</td>\n",
       "      <td>CHICAGO IL</td>\n",
       "      <td>117</td>\n",
       "      <td>116</td>\n",
       "      <td>39384.89</td>\n",
       "      <td>31892.6630</td>\n",
       "      <td>7492.2270</td>\n",
       "    </tr>\n",
       "    <tr>\n",
       "      <th>4</th>\n",
       "      <td>Pink Cab</td>\n",
       "      <td>2016</td>\n",
       "      <td>1</td>\n",
       "      <td>DALLAS TX</td>\n",
       "      <td>24</td>\n",
       "      <td>23</td>\n",
       "      <td>4370.32</td>\n",
       "      <td>4698.2470</td>\n",
       "      <td>-327.9270</td>\n",
       "    </tr>\n",
       "    <tr>\n",
       "      <th>...</th>\n",
       "      <td>...</td>\n",
       "      <td>...</td>\n",
       "      <td>...</td>\n",
       "      <td>...</td>\n",
       "      <td>...</td>\n",
       "      <td>...</td>\n",
       "      <td>...</td>\n",
       "      <td>...</td>\n",
       "      <td>...</td>\n",
       "    </tr>\n",
       "    <tr>\n",
       "      <th>1363</th>\n",
       "      <td>Yellow Cab</td>\n",
       "      <td>2018</td>\n",
       "      <td>12</td>\n",
       "      <td>SAN DIEGO CA</td>\n",
       "      <td>398</td>\n",
       "      <td>364</td>\n",
       "      <td>135753.23</td>\n",
       "      <td>115215.7644</td>\n",
       "      <td>20537.4656</td>\n",
       "    </tr>\n",
       "    <tr>\n",
       "      <th>1364</th>\n",
       "      <td>Yellow Cab</td>\n",
       "      <td>2018</td>\n",
       "      <td>12</td>\n",
       "      <td>SEATTLE WA</td>\n",
       "      <td>192</td>\n",
       "      <td>185</td>\n",
       "      <td>71752.52</td>\n",
       "      <td>58230.7176</td>\n",
       "      <td>13521.8024</td>\n",
       "    </tr>\n",
       "    <tr>\n",
       "      <th>1365</th>\n",
       "      <td>Yellow Cab</td>\n",
       "      <td>2018</td>\n",
       "      <td>12</td>\n",
       "      <td>SILICON VALLEY</td>\n",
       "      <td>205</td>\n",
       "      <td>200</td>\n",
       "      <td>102777.93</td>\n",
       "      <td>64013.6736</td>\n",
       "      <td>38764.2564</td>\n",
       "    </tr>\n",
       "    <tr>\n",
       "      <th>1366</th>\n",
       "      <td>Yellow Cab</td>\n",
       "      <td>2018</td>\n",
       "      <td>12</td>\n",
       "      <td>TUCSON AZ</td>\n",
       "      <td>50</td>\n",
       "      <td>50</td>\n",
       "      <td>17050.60</td>\n",
       "      <td>14528.3460</td>\n",
       "      <td>2522.2540</td>\n",
       "    </tr>\n",
       "    <tr>\n",
       "      <th>1367</th>\n",
       "      <td>Yellow Cab</td>\n",
       "      <td>2018</td>\n",
       "      <td>12</td>\n",
       "      <td>WASHINGTON DC</td>\n",
       "      <td>1500</td>\n",
       "      <td>1170</td>\n",
       "      <td>508258.30</td>\n",
       "      <td>445785.8196</td>\n",
       "      <td>62472.4804</td>\n",
       "    </tr>\n",
       "  </tbody>\n",
       "</table>\n",
       "<p>1368 rows × 9 columns</p>\n",
       "</div>"
      ],
      "text/plain": [
       "         Company  Year  Month            City  Total Transactions  \\\n",
       "0       Pink Cab  2016      1      ATLANTA GA                  21   \n",
       "1       Pink Cab  2016      1       AUSTIN TX                   7   \n",
       "2       Pink Cab  2016      1       BOSTON MA                  72   \n",
       "3       Pink Cab  2016      1      CHICAGO IL                 117   \n",
       "4       Pink Cab  2016      1       DALLAS TX                  24   \n",
       "...          ...   ...    ...             ...                 ...   \n",
       "1363  Yellow Cab  2018     12    SAN DIEGO CA                 398   \n",
       "1364  Yellow Cab  2018     12      SEATTLE WA                 192   \n",
       "1365  Yellow Cab  2018     12  SILICON VALLEY                 205   \n",
       "1366  Yellow Cab  2018     12       TUCSON AZ                  50   \n",
       "1367  Yellow Cab  2018     12   WASHINGTON DC                1500   \n",
       "\n",
       "      Total Customers  Total Revenue   Total Cost  Total Profit  \n",
       "0                  21        6626.24    5365.1190     1261.1210  \n",
       "1                   7        2076.89    1667.5040      409.3860  \n",
       "2                  72       19773.59   16992.7830     2780.8070  \n",
       "3                 116       39384.89   31892.6630     7492.2270  \n",
       "4                  23        4370.32    4698.2470     -327.9270  \n",
       "...               ...            ...          ...           ...  \n",
       "1363              364      135753.23  115215.7644    20537.4656  \n",
       "1364              185       71752.52   58230.7176    13521.8024  \n",
       "1365              200      102777.93   64013.6736    38764.2564  \n",
       "1366               50       17050.60   14528.3460     2522.2540  \n",
       "1367             1170      508258.30  445785.8196    62472.4804  \n",
       "\n",
       "[1368 rows x 9 columns]"
      ]
     },
     "execution_count": 126,
     "metadata": {},
     "output_type": "execute_result"
    }
   ],
   "source": [
    "grouped_data_city"
   ]
  },
  {
   "cell_type": "code",
   "execution_count": 119,
   "id": "c1a9b344-6572-4665-af4b-bb9db6f16c6d",
   "metadata": {},
   "outputs": [
    {
     "data": {
      "text/plain": [
       "Pink Cab      36\n",
       "Yellow Cab    36\n",
       "Name: Company, dtype: int64"
      ]
     },
     "execution_count": 119,
     "metadata": {},
     "output_type": "execute_result"
    }
   ],
   "source": [
    "grouped_data['Company'].value_counts()"
   ]
  },
  {
   "cell_type": "markdown",
   "id": "e273bf7b-4cc1-48dc-9475-dbeba711276e",
   "metadata": {},
   "source": [
    "# Total customers, transactions, revenue, cost and profit for both cab companies"
   ]
  },
  {
   "cell_type": "code",
   "execution_count": 136,
   "id": "55f5f67b-6e5d-4651-a8e1-a1c593f1fe75",
   "metadata": {},
   "outputs": [
    {
     "data": {
      "image/png": "[encoded data removed]",
      "text/plain": [
       "<Figure size 432x288 with 1 Axes>"
      ]
     },
     "metadata": {
      "needs_background": "light"
     },
     "output_type": "display_data"
    },
    {
     "data": {
      "image/png": "[encoded data removed]",
      "text/plain": [
       "<Figure size 432x288 with 1 Axes>"
      ]
     },
     "metadata": {
      "needs_background": "light"
     },
     "output_type": "display_data"
    },
    {
     "data": {
      "image/png": "[encoded data removed]",
      "text/plain": [
       "<Figure size 432x288 with 1 Axes>"
      ]
     },
     "metadata": {
      "needs_background": "light"
     },
     "output_type": "display_data"
    },
    {
     "data": {
      "image/png": "[encoded data removed]",
      "text/plain": [
       "<Figure size 432x288 with 1 Axes>"
      ]
     },
     "metadata": {
      "needs_background": "light"
     },
     "output_type": "display_data"
    },
    {
     "data": {
      "image/png": "[encoded data removed]",
      "text/plain": [
       "<Figure size 432x288 with 1 Axes>"
      ]
     },
     "metadata": {
      "needs_background": "light"
     },
     "output_type": "display_data"
    }
   ],
   "source": [
    "\n",
    "#group data as company year\n",
    "col_list =grouped_data[['Total Transactions','Total Customers','Total Revenue','Total Cost','Total Profit']]\n",
    "for col in col_list:\n",
    "    sns.lineplot(data=grouped_data, x=\"Year\", y=grouped_data[col], hue=\"Company\")\n",
    "    plt.title=(f\"Distribution of {col}\")\n",
    "    plt.xticks(rotation=45)\n",
    "    plt.show()"
   ]
  },
  {
   "cell_type": "markdown",
   "id": "c5261cad-1113-47e3-863b-f1b7ab941260",
   "metadata": {},
   "source": [
    "# Monthly Total Revenue"
   ]
  },
  {
   "cell_type": "code",
   "execution_count": 121,
   "id": "37122093-af95-407c-b573-dfcb9a20d250",
   "metadata": {},
   "outputs": [
    {
     "data": {
      "image/png": "[encoded data removed]",
      "text/plain": [
       "<Figure size 432x288 with 1 Axes>"
      ]
     },
     "metadata": {
      "needs_background": "light"
     },
     "output_type": "display_data"
    }
   ],
   "source": [
    "\n",
    "\n",
    "sns.lineplot(data=grouped_data, x=\"Month\", y=\"Total Revenue\", hue=\"Company\")\n",
    "plt.xticks(rotation=45)\n",
    "plt.show()"
   ]
  },
  {
   "cell_type": "markdown",
   "id": "86910820-fd70-4c1b-ae70-0da028323d5f",
   "metadata": {},
   "source": [
    "# Number of transactions based on cities for both companies"
   ]
  },
  {
   "cell_type": "code",
   "execution_count": 145,
   "id": "95395bc5-6ddf-4b5c-b609-ab4799c0f200",
   "metadata": {},
   "outputs": [
    {
     "data": {
      "image/png": "[encoded data removed]",
      "text/plain": [
       "<Figure size 720x432 with 1 Axes>"
      ]
     },
     "metadata": {
      "needs_background": "light"
     },
     "output_type": "display_data"
    }
   ],
   "source": [
    "\n",
    "col2 = 'Total Transactions'\n",
    "\n",
    "plt.figure(figsize=(10, 6))\n",
    "sns.barplot(data=grouped_data_city, x=col2, y='City', hue=\"Company\")\n",
    "plt.xticks(rotation=45)\n",
    "plt.xlabel(col2)\n",
    "plt.ylabel('City')\n",
    "plt.legend(title='Company')\n",
    "plt.show()\n"
   ]
  },
  {
   "cell_type": "markdown",
   "id": "51d1b504-a0a4-4e28-8dc9-06fcf8ab5c73",
   "metadata": {},
   "source": [
    "# Avg monthly revenue"
   ]
  },
  {
   "cell_type": "code",
   "execution_count": 146,
   "id": "6cf7a916-42ce-4f71-b856-40bb8e2a7ec6",
   "metadata": {},
   "outputs": [
    {
     "data": {
      "image/png": "[encoded data removed]",
      "text/plain": [
       "<Figure size 864x432 with 1 Axes>"
      ]
     },
     "metadata": {
      "needs_background": "light"
     },
     "output_type": "display_data"
    }
   ],
   "source": [
    "\n",
    "\n",
    "average_monthly_revenue = grouped_data_city.groupby(['Company', 'Year', 'Month'])['Total Revenue'].mean()\n",
    "average_monthly_revenue\n",
    "\n",
    "#Plot\n",
    "plt.figure(figsize=(12, 6))\n",
    "sns.barplot(data=average_monthly_revenue.reset_index(), x='Month', y='Total Revenue', hue='Company')\n",
    "plt.xlabel('Month')\n",
    "plt.ylabel('Average Revenue')\n",
    "plt.legend(title='Company')\n",
    "plt.xticks(rotation=45)\n",
    "plt.show()\n"
   ]
  },
  {
   "cell_type": "markdown",
   "id": "40998684-0cf8-4615-8456-f7138951b36c",
   "metadata": {},
   "source": [
    "# Avg yearly revenue"
   ]
  },
  {
   "cell_type": "code",
   "execution_count": 147,
   "id": "36764fd5-0041-4b64-8225-df57dbd6b514",
   "metadata": {},
   "outputs": [
    {
     "data": {
      "image/png": "[encoded data removed]",
      "text/plain": [
       "<Figure size 720x432 with 1 Axes>"
      ]
     },
     "metadata": {
      "needs_background": "light"
     },
     "output_type": "display_data"
    }
   ],
   "source": [
    "average_yearly_revenue = grouped_data_city.groupby(['Company', 'Year'])['Total Revenue'].mean()\n",
    "average_yearly_revenue\n",
    "\n",
    "#Plot\n",
    "plt.figure(figsize=(10, 6))\n",
    "sns.barplot(data=average_yearly_revenue.reset_index(), x='Year', y='Total Revenue', hue='Company')\n",
    "plt.xlabel('Year')\n",
    "plt.ylabel('Average Revenue')\n",
    "plt.legend(title='Company')\n",
    "plt.show()\n"
   ]
  },
  {
   "cell_type": "markdown",
   "id": "64e216af-8bbc-4897-bd0e-02cae6da2df0",
   "metadata": {},
   "source": [
    "# Customer Segementation based on age,income and gender"
   ]
  },
  {
   "cell_type": "code",
   "execution_count": 154,
   "id": "e62f44f1-ec92-4b8b-9b62-4447170a0e62",
   "metadata": {},
   "outputs": [
    {
     "data": {
      "image/png": "[encoded data removed]",
      "text/plain": [
       "<Figure size 864x432 with 1 Axes>"
      ]
     },
     "metadata": {
      "needs_background": "light"
     },
     "output_type": "display_data"
    }
   ],
   "source": [
    "\n",
    "# Income bins\n",
    "income_bins = [0, 30000, 60000, 90000, 120000]\n",
    "income_labels = ['Low', 'Medium', 'High', 'Very High']\n",
    "\n",
    "# Gender and age labels\n",
    "# Define age bins \n",
    "age_bins = [0, 18, 35, 60, 100]\n",
    "age_labels = ['Young', 'Middle-Aged', 'Senior', 'Super Senior']\n",
    "\n",
    "gender_labels = ['Male', 'Female']\n",
    "age_labels = ['Young', 'Middle-Aged', 'Senior', 'Super Senior']\n",
    "\n",
    "# Calculating income, gender, and age groups\n",
    "df_final['Income Group'] = pd.cut(df_final['Income (USD/Month)'], bins=income_bins, labels=income_labels)\n",
    "df_final['Gender'] = df_final['Gender'].replace({'Male': 'Male', 'Female': 'Female'})\n",
    "df_final['Age Group'] = pd.cut(df_final['Age'], bins=age_bins, labels=age_labels)\n",
    "\n",
    "# Grouping the data by 'Company', 'Income Group', 'Gender', and 'Age Group' as well as calculating the count of customers\n",
    "segregation_data = df_final.groupby(['Company', 'Income Group', 'Gender', 'Age Group'])['Customer ID'].nunique().reset_index()\n",
    "\n",
    "# Creating a DataFrame for plotting\n",
    "pivoted_data = segregation_data.pivot_table(index=['Company', 'Income Group', 'Gender'], columns='Age Group', values='Customer ID', fill_value=0)\n",
    "\n",
    "# Plot\n",
    "pivoted_data.plot(kind='bar', stacked=True, figsize=(12, 6))\n",
    "plt.xlabel('Company, Income Group, and Gender')\n",
    "plt.ylabel('Customer Count')\n",
    "plt.legend(title='Age Group')\n",
    "plt.xticks(rotation=45)\n",
    "plt.show()\n",
    "\n"
   ]
  },
  {
   "cell_type": "markdown",
   "id": "3c118ae7-cb6e-41dc-9d3e-07a12da7f4a9",
   "metadata": {},
   "source": [
    "# Customer Retention"
   ]
  },
  {
   "cell_type": "code",
   "execution_count": 173,
   "id": "7a84df87-7761-4e34-b21f-12b8053c9d87",
   "metadata": {},
   "outputs": [
    {
     "data": {
      "image/png": "[encoded data removed]",
      "text/plain": [
       "<Figure size 720x432 with 1 Axes>"
      ]
     },
     "metadata": {
      "needs_background": "light"
     },
     "output_type": "display_data"
    }
   ],
   "source": [
    "\n",
    "# Grouping the data by 'Company' and 'Customer ID' and calculating the count of occurrences\n",
    "customer_frequency = df_final.groupby(['Company', 'Customer ID']).size().reset_index(name='Frequency')\n",
    "\n",
    "# Grouping the data by 'Company' and calculating the number of unique customers\n",
    "total_customers = customer_frequency.groupby('Company')['Customer ID'].nunique()\n",
    "\n",
    "# Calculating the average frequency (retention) for each company\n",
    "customer_frequency['Retention'] = customer_frequency['Frequency'] / total_customers[customer_frequency['Company']].values\n",
    "\n",
    "# Plot\n",
    "plt.figure(figsize=(10, 6))\n",
    "plt.bar(customer_frequency['Company'], customer_frequency['Retention'])\n",
    "plt.xlabel('Company')\n",
    "plt.ylabel('Retention (Average Frequency)')\n",
    "plt.show()"
   ]
  },
  {
   "cell_type": "markdown",
   "id": "15cb48e9-9da5-4357-a200-5e7650ea0550",
   "metadata": {},
   "source": [
    "##  Final Recommendation: Investment should be made in Yellow cab as it will be much more profitable and future prospects are promising"
   ]
  }
 ],
 "metadata": {
  "kernelspec": {
   "display_name": "Python 3 (ipykernel)",
   "language": "python",
   "name": "python3"
  },
  "language_info": {
   "codemirror_mode": {
    "name": "ipython",
    "version": 3
   },
   "file_extension": ".py",
   "mimetype": "text/x-python",
   "name": "python",
   "nbconvert_exporter": "python",
   "pygments_lexer": "ipython3",
   "version": "3.9.12"
  }
 },
 "nbformat": 4,
 "nbformat_minor": 5
}
